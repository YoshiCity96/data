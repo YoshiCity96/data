{
  "nbformat": 4,
  "nbformat_minor": 0,
  "metadata": {
    "colab": {
      "provenance": []
    },
    "kernelspec": {
      "name": "python3",
      "display_name": "Python 3"
    },
    "language_info": {
      "name": "python"
    }
  },
  "cells": [
    {
      "cell_type": "code",
      "execution_count": null,
      "metadata": {
        "colab": {
          "base_uri": "https://localhost:8080/"
        },
        "id": "b1BbMCXfCtC6",
        "outputId": "bc13ae47-4dda-44e2-c52f-a3b54af1420c"
      },
      "outputs": [
        {
          "output_type": "stream",
          "name": "stdout",
          "text": [
            "Drive already mounted at /content/gdrive; to attempt to forcibly remount, call drive.mount(\"/content/gdrive\", force_remount=True).\n"
          ]
        }
      ],
      "source": [
        "from google.colab import drive\n",
        "drive.mount('/content/gdrive')"
      ]
    },
    {
      "cell_type": "code",
      "source": [
        "import pandas as pd\n",
        "import numpy as np\n",
        "import matplotlib.pyplot as plt\n",
        "import plotly.express as px\n",
        "# import plotly.graph_objects as go\n",
        "# import plotly.figure_factory as ff\n",
        "import seaborn as sns\n",
        "import warnings\n",
        "warnings.filterwarnings(\"ignore\")\n",
        "# from nltk.tokenize import word_tokenize as wt\n",
        "# from collections import Counter\n",
        "import gensim\n",
        "# import textblob\n",
        "import spacy\n",
        "import tensorflow as tf\n",
        "from tensorflow.keras.preprocessing.text import one_hot, Tokenizer\n",
        "from tensorflow.keras.preprocessing.sequence import pad_sequences\n",
        "from tensorflow.keras.models import Sequential\n",
        "from tensorflow.keras.layers import Activation, Dropout, Dense\n",
        "from tensorflow.keras.layers import Flatten, GlobalMaxPooling1D, Embedding, Conv1D, LSTM, Bidirectional"
      ],
      "metadata": {
        "id": "QhscWqCCDIAb"
      },
      "execution_count": null,
      "outputs": []
    },
    {
      "cell_type": "code",
      "source": [
        "df_news = pd.read_csv('/content/gdrive/MyDrive/Dataset/lenta-ru-news.csv')"
      ],
      "metadata": {
        "id": "gWlzfTRHDSeX"
      },
      "execution_count": null,
      "outputs": []
    },
    {
      "cell_type": "code",
      "source": [
        "df_news"
      ],
      "metadata": {
        "colab": {
          "base_uri": "https://localhost:8080/",
          "height": 424
        },
        "id": "7HJ_p6ajDaqe",
        "outputId": "b7c32513-ac0b-4a07-cdfa-03d5bbc9eac8"
      },
      "execution_count": null,
      "outputs": [
        {
          "output_type": "execute_result",
          "data": {
            "text/plain": [
              "                                                url  \\\n",
              "0        https://lenta.ru/news/1914/09/16/hungarnn/   \n",
              "1       https://lenta.ru/news/1914/09/16/lermontov/   \n",
              "2       https://lenta.ru/news/1914/09/17/nesteroff/   \n",
              "3        https://lenta.ru/news/1914/09/17/bulldogn/   \n",
              "4            https://lenta.ru/news/1914/09/18/zver/   \n",
              "...                                             ...   \n",
              "800970      https://lenta.ru/news/2019/12/14/shnur/   \n",
              "800971       https://lenta.ru/news/2019/12/14/dolg/   \n",
              "800972  https://lenta.ru/news/2019/12/14/dark_euro/   \n",
              "800973      https://lenta.ru/news/2019/12/14/meteo/   \n",
              "800974      https://lenta.ru/news/2019/12/14/olimp/   \n",
              "\n",
              "                                                    title  \\\n",
              "0       1914. Русские войска вступили в пределы Венгрии     \n",
              "1       1914. Празднование столетия М.Ю. Лермонтова от...   \n",
              "2                                1914. Das ist Nesteroff!   \n",
              "3                         1914. Бульдог-гонец под Льежем    \n",
              "4                1914. Под Люблином пойман швабский зверь   \n",
              "...                                                   ...   \n",
              "800970          Шнуров раскритиковал Гагарину на «Голосе»   \n",
              "800971  В России предложили изменить правила взыскания...   \n",
              "800972          В России назвали «черную дату» для Европы   \n",
              "800973        Россиянам пообещали аномально теплую погоду   \n",
              "800974  В конкурсе прогнозов на АПЛ разыграют 100 тыся...   \n",
              "\n",
              "                                                     text       topic  \\\n",
              "0       Бои у Сопоцкина и Друскеник закончились отступ...  Библиотека   \n",
              "1       Министерство народного просвещения, в виду про...  Библиотека   \n",
              "2       Штабс-капитан П. Н. Нестеров на днях, увидев в...  Библиотека   \n",
              "3       Фотограф-корреспондент Daily Mirror рассказыва...  Библиотека   \n",
              "4       Лица, приехавшие в Варшаву из Люблина, передаю...  Библиотека   \n",
              "...                                                   ...         ...   \n",
              "800970  Певец Сергей Шнуров раскритиковал свою коллегу...         NaN   \n",
              "800971  Министерство юстиции России предложило изменит...         NaN   \n",
              "800972  Испытание США ранее запрещенной Договором о ли...         NaN   \n",
              "800973  В ближайшие дни в европейской части России пог...         NaN   \n",
              "800974  Ведущие футбольные чемпионаты ушли на зимние к...         NaN   \n",
              "\n",
              "                     tags        date  \n",
              "0          Первая мировая  1914/09/16  \n",
              "1          Первая мировая  1914/09/16  \n",
              "2          Первая мировая  1914/09/17  \n",
              "3          Первая мировая  1914/09/17  \n",
              "4          Первая мировая  1914/09/18  \n",
              "...                   ...         ...  \n",
              "800970         ТВ и радио  2019/12/14  \n",
              "800971                Все  2019/12/14  \n",
              "800972           Политика  2019/12/14  \n",
              "800973           Общество  2019/12/14  \n",
              "800974  Английский футбол  2019/12/14  \n",
              "\n",
              "[800975 rows x 6 columns]"
            ],
            "text/html": [
              "\n",
              "\n",
              "  <div id=\"df-2d2ccd45-6ad0-46dc-a707-c5e18c3cd7ad\">\n",
              "    <div class=\"colab-df-container\">\n",
              "      <div>\n",
              "<style scoped>\n",
              "    .dataframe tbody tr th:only-of-type {\n",
              "        vertical-align: middle;\n",
              "    }\n",
              "\n",
              "    .dataframe tbody tr th {\n",
              "        vertical-align: top;\n",
              "    }\n",
              "\n",
              "    .dataframe thead th {\n",
              "        text-align: right;\n",
              "    }\n",
              "</style>\n",
              "<table border=\"1\" class=\"dataframe\">\n",
              "  <thead>\n",
              "    <tr style=\"text-align: right;\">\n",
              "      <th></th>\n",
              "      <th>url</th>\n",
              "      <th>title</th>\n",
              "      <th>text</th>\n",
              "      <th>topic</th>\n",
              "      <th>tags</th>\n",
              "      <th>date</th>\n",
              "    </tr>\n",
              "  </thead>\n",
              "  <tbody>\n",
              "    <tr>\n",
              "      <th>0</th>\n",
              "      <td>https://lenta.ru/news/1914/09/16/hungarnn/</td>\n",
              "      <td>1914. Русские войска вступили в пределы Венгрии</td>\n",
              "      <td>Бои у Сопоцкина и Друскеник закончились отступ...</td>\n",
              "      <td>Библиотека</td>\n",
              "      <td>Первая мировая</td>\n",
              "      <td>1914/09/16</td>\n",
              "    </tr>\n",
              "    <tr>\n",
              "      <th>1</th>\n",
              "      <td>https://lenta.ru/news/1914/09/16/lermontov/</td>\n",
              "      <td>1914. Празднование столетия М.Ю. Лермонтова от...</td>\n",
              "      <td>Министерство народного просвещения, в виду про...</td>\n",
              "      <td>Библиотека</td>\n",
              "      <td>Первая мировая</td>\n",
              "      <td>1914/09/16</td>\n",
              "    </tr>\n",
              "    <tr>\n",
              "      <th>2</th>\n",
              "      <td>https://lenta.ru/news/1914/09/17/nesteroff/</td>\n",
              "      <td>1914. Das ist Nesteroff!</td>\n",
              "      <td>Штабс-капитан П. Н. Нестеров на днях, увидев в...</td>\n",
              "      <td>Библиотека</td>\n",
              "      <td>Первая мировая</td>\n",
              "      <td>1914/09/17</td>\n",
              "    </tr>\n",
              "    <tr>\n",
              "      <th>3</th>\n",
              "      <td>https://lenta.ru/news/1914/09/17/bulldogn/</td>\n",
              "      <td>1914. Бульдог-гонец под Льежем</td>\n",
              "      <td>Фотограф-корреспондент Daily Mirror рассказыва...</td>\n",
              "      <td>Библиотека</td>\n",
              "      <td>Первая мировая</td>\n",
              "      <td>1914/09/17</td>\n",
              "    </tr>\n",
              "    <tr>\n",
              "      <th>4</th>\n",
              "      <td>https://lenta.ru/news/1914/09/18/zver/</td>\n",
              "      <td>1914. Под Люблином пойман швабский зверь</td>\n",
              "      <td>Лица, приехавшие в Варшаву из Люблина, передаю...</td>\n",
              "      <td>Библиотека</td>\n",
              "      <td>Первая мировая</td>\n",
              "      <td>1914/09/18</td>\n",
              "    </tr>\n",
              "    <tr>\n",
              "      <th>...</th>\n",
              "      <td>...</td>\n",
              "      <td>...</td>\n",
              "      <td>...</td>\n",
              "      <td>...</td>\n",
              "      <td>...</td>\n",
              "      <td>...</td>\n",
              "    </tr>\n",
              "    <tr>\n",
              "      <th>800970</th>\n",
              "      <td>https://lenta.ru/news/2019/12/14/shnur/</td>\n",
              "      <td>Шнуров раскритиковал Гагарину на «Голосе»</td>\n",
              "      <td>Певец Сергей Шнуров раскритиковал свою коллегу...</td>\n",
              "      <td>NaN</td>\n",
              "      <td>ТВ и радио</td>\n",
              "      <td>2019/12/14</td>\n",
              "    </tr>\n",
              "    <tr>\n",
              "      <th>800971</th>\n",
              "      <td>https://lenta.ru/news/2019/12/14/dolg/</td>\n",
              "      <td>В России предложили изменить правила взыскания...</td>\n",
              "      <td>Министерство юстиции России предложило изменит...</td>\n",
              "      <td>NaN</td>\n",
              "      <td>Все</td>\n",
              "      <td>2019/12/14</td>\n",
              "    </tr>\n",
              "    <tr>\n",
              "      <th>800972</th>\n",
              "      <td>https://lenta.ru/news/2019/12/14/dark_euro/</td>\n",
              "      <td>В России назвали «черную дату» для Европы</td>\n",
              "      <td>Испытание США ранее запрещенной Договором о ли...</td>\n",
              "      <td>NaN</td>\n",
              "      <td>Политика</td>\n",
              "      <td>2019/12/14</td>\n",
              "    </tr>\n",
              "    <tr>\n",
              "      <th>800973</th>\n",
              "      <td>https://lenta.ru/news/2019/12/14/meteo/</td>\n",
              "      <td>Россиянам пообещали аномально теплую погоду</td>\n",
              "      <td>В ближайшие дни в европейской части России пог...</td>\n",
              "      <td>NaN</td>\n",
              "      <td>Общество</td>\n",
              "      <td>2019/12/14</td>\n",
              "    </tr>\n",
              "    <tr>\n",
              "      <th>800974</th>\n",
              "      <td>https://lenta.ru/news/2019/12/14/olimp/</td>\n",
              "      <td>В конкурсе прогнозов на АПЛ разыграют 100 тыся...</td>\n",
              "      <td>Ведущие футбольные чемпионаты ушли на зимние к...</td>\n",
              "      <td>NaN</td>\n",
              "      <td>Английский футбол</td>\n",
              "      <td>2019/12/14</td>\n",
              "    </tr>\n",
              "  </tbody>\n",
              "</table>\n",
              "<p>800975 rows × 6 columns</p>\n",
              "</div>\n",
              "      <button class=\"colab-df-convert\" onclick=\"convertToInteractive('df-2d2ccd45-6ad0-46dc-a707-c5e18c3cd7ad')\"\n",
              "              title=\"Convert this dataframe to an interactive table.\"\n",
              "              style=\"display:none;\">\n",
              "\n",
              "  <svg xmlns=\"http://www.w3.org/2000/svg\" height=\"24px\"viewBox=\"0 0 24 24\"\n",
              "       width=\"24px\">\n",
              "    <path d=\"M0 0h24v24H0V0z\" fill=\"none\"/>\n",
              "    <path d=\"M18.56 5.44l.94 2.06.94-2.06 2.06-.94-2.06-.94-.94-2.06-.94 2.06-2.06.94zm-11 1L8.5 8.5l.94-2.06 2.06-.94-2.06-.94L8.5 2.5l-.94 2.06-2.06.94zm10 10l.94 2.06.94-2.06 2.06-.94-2.06-.94-.94-2.06-.94 2.06-2.06.94z\"/><path d=\"M17.41 7.96l-1.37-1.37c-.4-.4-.92-.59-1.43-.59-.52 0-1.04.2-1.43.59L10.3 9.45l-7.72 7.72c-.78.78-.78 2.05 0 2.83L4 21.41c.39.39.9.59 1.41.59.51 0 1.02-.2 1.41-.59l7.78-7.78 2.81-2.81c.8-.78.8-2.07 0-2.86zM5.41 20L4 18.59l7.72-7.72 1.47 1.35L5.41 20z\"/>\n",
              "  </svg>\n",
              "      </button>\n",
              "\n",
              "\n",
              "\n",
              "    <div id=\"df-639c6c4f-6756-4505-98fc-741fd27c9c63\">\n",
              "      <button class=\"colab-df-quickchart\" onclick=\"quickchart('df-639c6c4f-6756-4505-98fc-741fd27c9c63')\"\n",
              "              title=\"Suggest charts.\"\n",
              "              style=\"display:none;\">\n",
              "\n",
              "<svg xmlns=\"http://www.w3.org/2000/svg\" height=\"24px\"viewBox=\"0 0 24 24\"\n",
              "     width=\"24px\">\n",
              "    <g>\n",
              "        <path d=\"M19 3H5c-1.1 0-2 .9-2 2v14c0 1.1.9 2 2 2h14c1.1 0 2-.9 2-2V5c0-1.1-.9-2-2-2zM9 17H7v-7h2v7zm4 0h-2V7h2v10zm4 0h-2v-4h2v4z\"/>\n",
              "    </g>\n",
              "</svg>\n",
              "      </button>\n",
              "    </div>\n",
              "\n",
              "<style>\n",
              "  .colab-df-quickchart {\n",
              "    background-color: #E8F0FE;\n",
              "    border: none;\n",
              "    border-radius: 50%;\n",
              "    cursor: pointer;\n",
              "    display: none;\n",
              "    fill: #1967D2;\n",
              "    height: 32px;\n",
              "    padding: 0 0 0 0;\n",
              "    width: 32px;\n",
              "  }\n",
              "\n",
              "  .colab-df-quickchart:hover {\n",
              "    background-color: #E2EBFA;\n",
              "    box-shadow: 0px 1px 2px rgba(60, 64, 67, 0.3), 0px 1px 3px 1px rgba(60, 64, 67, 0.15);\n",
              "    fill: #174EA6;\n",
              "  }\n",
              "\n",
              "  [theme=dark] .colab-df-quickchart {\n",
              "    background-color: #3B4455;\n",
              "    fill: #D2E3FC;\n",
              "  }\n",
              "\n",
              "  [theme=dark] .colab-df-quickchart:hover {\n",
              "    background-color: #434B5C;\n",
              "    box-shadow: 0px 1px 3px 1px rgba(0, 0, 0, 0.15);\n",
              "    filter: drop-shadow(0px 1px 2px rgba(0, 0, 0, 0.3));\n",
              "    fill: #FFFFFF;\n",
              "  }\n",
              "</style>\n",
              "\n",
              "    <script>\n",
              "      async function quickchart(key) {\n",
              "        const containerElement = document.querySelector('#' + key);\n",
              "        const charts = await google.colab.kernel.invokeFunction(\n",
              "            'suggestCharts', [key], {});\n",
              "      }\n",
              "    </script>\n",
              "\n",
              "      <script>\n",
              "\n",
              "function displayQuickchartButton(domScope) {\n",
              "  let quickchartButtonEl =\n",
              "    domScope.querySelector('#df-639c6c4f-6756-4505-98fc-741fd27c9c63 button.colab-df-quickchart');\n",
              "  quickchartButtonEl.style.display =\n",
              "    google.colab.kernel.accessAllowed ? 'block' : 'none';\n",
              "}\n",
              "\n",
              "        displayQuickchartButton(document);\n",
              "      </script>\n",
              "      <style>\n",
              "    .colab-df-container {\n",
              "      display:flex;\n",
              "      flex-wrap:wrap;\n",
              "      gap: 12px;\n",
              "    }\n",
              "\n",
              "    .colab-df-convert {\n",
              "      background-color: #E8F0FE;\n",
              "      border: none;\n",
              "      border-radius: 50%;\n",
              "      cursor: pointer;\n",
              "      display: none;\n",
              "      fill: #1967D2;\n",
              "      height: 32px;\n",
              "      padding: 0 0 0 0;\n",
              "      width: 32px;\n",
              "    }\n",
              "\n",
              "    .colab-df-convert:hover {\n",
              "      background-color: #E2EBFA;\n",
              "      box-shadow: 0px 1px 2px rgba(60, 64, 67, 0.3), 0px 1px 3px 1px rgba(60, 64, 67, 0.15);\n",
              "      fill: #174EA6;\n",
              "    }\n",
              "\n",
              "    [theme=dark] .colab-df-convert {\n",
              "      background-color: #3B4455;\n",
              "      fill: #D2E3FC;\n",
              "    }\n",
              "\n",
              "    [theme=dark] .colab-df-convert:hover {\n",
              "      background-color: #434B5C;\n",
              "      box-shadow: 0px 1px 3px 1px rgba(0, 0, 0, 0.15);\n",
              "      filter: drop-shadow(0px 1px 2px rgba(0, 0, 0, 0.3));\n",
              "      fill: #FFFFFF;\n",
              "    }\n",
              "  </style>\n",
              "\n",
              "      <script>\n",
              "        const buttonEl =\n",
              "          document.querySelector('#df-2d2ccd45-6ad0-46dc-a707-c5e18c3cd7ad button.colab-df-convert');\n",
              "        buttonEl.style.display =\n",
              "          google.colab.kernel.accessAllowed ? 'block' : 'none';\n",
              "\n",
              "        async function convertToInteractive(key) {\n",
              "          const element = document.querySelector('#df-2d2ccd45-6ad0-46dc-a707-c5e18c3cd7ad');\n",
              "          const dataTable =\n",
              "            await google.colab.kernel.invokeFunction('convertToInteractive',\n",
              "                                                     [key], {});\n",
              "          if (!dataTable) return;\n",
              "\n",
              "          const docLinkHtml = 'Like what you see? Visit the ' +\n",
              "            '<a target=\"_blank\" href=https://colab.research.google.com/notebooks/data_table.ipynb>data table notebook</a>'\n",
              "            + ' to learn more about interactive tables.';\n",
              "          element.innerHTML = '';\n",
              "          dataTable['output_type'] = 'display_data';\n",
              "          await google.colab.output.renderOutput(dataTable, element);\n",
              "          const docLink = document.createElement('div');\n",
              "          docLink.innerHTML = docLinkHtml;\n",
              "          element.appendChild(docLink);\n",
              "        }\n",
              "      </script>\n",
              "    </div>\n",
              "  </div>\n"
            ]
          },
          "metadata": {},
          "execution_count": 5
        }
      ]
    },
    {
      "cell_type": "code",
      "source": [
        "df_news.topic.value_counts()"
      ],
      "metadata": {
        "colab": {
          "base_uri": "https://localhost:8080/"
        },
        "id": "Tw_BhRCvHqk9",
        "outputId": "70245509-6cb2-4629-f153-ef83f4120e7a"
      },
      "execution_count": null,
      "outputs": [
        {
          "output_type": "execute_result",
          "data": {
            "text/plain": [
              "Россия               160445\n",
              "Мир                  136621\n",
              "Экономика             79528\n",
              "Спорт                 64413\n",
              "Культура              53797\n",
              "Бывший СССР           53402\n",
              "Наука и техника       53136\n",
              "Интернет и СМИ        44663\n",
              "Из жизни              27605\n",
              "Дом                   21734\n",
              "Силовые структуры     19596\n",
              "Ценности               7766\n",
              "Бизнес                 7399\n",
              "Путешествия            6408\n",
              "69-я параллель         1268\n",
              "Крым                    666\n",
              "Культпросвет            340\n",
              "Легпром                 114\n",
              "Библиотека               65\n",
              "Оружие                    3\n",
              "ЧМ-2014                   2\n",
              "МедНовости                1\n",
              "Сочи                      1\n",
              "Name: topic, dtype: int64"
            ]
          },
          "metadata": {},
          "execution_count": 6
        }
      ]
    },
    {
      "cell_type": "code",
      "source": [
        "df_news.date.value_counts()"
      ],
      "metadata": {
        "colab": {
          "base_uri": "https://localhost:8080/"
        },
        "id": "_WGr53XhH7Wz",
        "outputId": "b3f217b4-b123-4105-9967-b383a2e847b9"
      },
      "execution_count": null,
      "outputs": [
        {
          "output_type": "execute_result",
          "data": {
            "text/plain": [
              "2019/12/05    284\n",
              "2019/12/10    281\n",
              "2016/12/01    278\n",
              "2019/10/09    276\n",
              "2019/06/20    275\n",
              "             ... \n",
              "2000/02/27      1\n",
              "1999/11/20      1\n",
              "1999/12/26      1\n",
              "1914/09/18      1\n",
              "1999/10/03      1\n",
              "Name: date, Length: 7393, dtype: int64"
            ]
          },
          "metadata": {},
          "execution_count": 134
        }
      ]
    },
    {
      "cell_type": "code",
      "source": [
        "df_news['date'] = pd.to_datetime(df_news['date'], format='%Y/%m/%d')"
      ],
      "metadata": {
        "id": "m0naBV_gJCxm"
      },
      "execution_count": null,
      "outputs": []
    },
    {
      "cell_type": "code",
      "source": [
        "df_news_2017 = df_news[df_news['date'].dt.year == 2017]"
      ],
      "metadata": {
        "id": "6ufzcmh4IMq4"
      },
      "execution_count": null,
      "outputs": []
    },
    {
      "cell_type": "code",
      "source": [
        "df_news_2017"
      ],
      "metadata": {
        "colab": {
          "base_uri": "https://localhost:8080/",
          "height": 424
        },
        "id": "r7XnenKrJJd7",
        "outputId": "9b34d0e9-d7bf-43f4-aa3e-fa07cc60327e"
      },
      "execution_count": null,
      "outputs": [
        {
          "output_type": "execute_result",
          "data": {
            "text/plain": [
              "                                                  url  \\\n",
              "638503  https://lenta.ru/news/2017/01/01/mirzaevdelo/   \n",
              "638504     https://lenta.ru/news/2017/01/01/dagestan/   \n",
              "638505           https://lenta.ru/news/2017/01/01/39/   \n",
              "638506   https://lenta.ru/news/2017/01/01/lukashenko/   \n",
              "638507        https://lenta.ru/news/2017/01/01/putin/   \n",
              "...                                               ...   \n",
              "697290      https://lenta.ru/news/2017/12/31/protest/   \n",
              "697291   https://lenta.ru/news/2017/12/31/mad_russia/   \n",
              "697292      https://lenta.ru/news/2017/12/31/pushkin/   \n",
              "697293           https://lenta.ru/news/2017/12/31/vk/   \n",
              "697294           https://lenta.ru/news/2017/12/31/sk/   \n",
              "\n",
              "                                                    title  \\\n",
              "638503  Возбуждено дело по факту избиения Расула Мирзаева   \n",
              "638504  Двое силовиков пострадали в спецоперации в Даг...   \n",
              "638505  Число жертв атаки на ночной клуб в Стамбуле во...   \n",
              "638506    Лукашенко призвал белорусов держать порох сухим   \n",
              "638507            Путин отреагировал на теракт в Стамбуле   \n",
              "...                                                   ...   \n",
              "697290          Два человека погибли при погромах в Иране   \n",
              "697291  Опубликован трейлер чемпионата мира по футболу...   \n",
              "697292  Украинцы украли стоявший с царских времен бюст...   \n",
              "697293               «ВКонтакте» случайно перешла на мову   \n",
              "697294  СК спустя три дня после Путина признал взрыв в...   \n",
              "\n",
              "                                                     text              topic  \\\n",
              "638503  Следственный комитет России возбудил уголовное...              Спорт   \n",
              "638504  В Новолакском районе Дагестана проходит спецоп...  Силовые структуры   \n",
              "638505  В результате нападения на ночной клуб Reina в ...                Мир   \n",
              "638506  Президент Белоруссии Александр Лукашенко в нов...        Бывший СССР   \n",
              "638507  Президент России Владимир Путин направил турец...             Россия   \n",
              "...                                                   ...                ...   \n",
              "697290  Два человека погибли в ходе антиправительствен...                Мир   \n",
              "697291  Издание Bleacher Report в своем Twitter-аккаун...              Спорт   \n",
              "697292  В Чернигове украден бюст русского поэта Алекса...        Бывший СССР   \n",
              "697293  Социальная сеть «ВКонтакте» разослала пользова...     Интернет и СМИ   \n",
              "697294  Предполагаемому организатору и исполнителю взр...  Силовые структуры   \n",
              "\n",
              "                   tags       date  \n",
              "638503       Бокс и ММА 2017-01-01  \n",
              "638504         Криминал 2017-01-01  \n",
              "638505     Преступность 2017-01-01  \n",
              "638506       Белоруссия 2017-01-01  \n",
              "638507         Политика 2017-01-01  \n",
              "...                 ...        ...  \n",
              "697290         Общество 2017-12-31  \n",
              "697291           Футбол 2017-12-31  \n",
              "697292          Украина 2017-12-31  \n",
              "697293          Coцсети 2017-12-31  \n",
              "697294  Следствие и суд 2017-12-31  \n",
              "\n",
              "[58792 rows x 6 columns]"
            ],
            "text/html": [
              "\n",
              "\n",
              "  <div id=\"df-3189ad78-3fce-42d4-9c87-7b4c6968c231\">\n",
              "    <div class=\"colab-df-container\">\n",
              "      <div>\n",
              "<style scoped>\n",
              "    .dataframe tbody tr th:only-of-type {\n",
              "        vertical-align: middle;\n",
              "    }\n",
              "\n",
              "    .dataframe tbody tr th {\n",
              "        vertical-align: top;\n",
              "    }\n",
              "\n",
              "    .dataframe thead th {\n",
              "        text-align: right;\n",
              "    }\n",
              "</style>\n",
              "<table border=\"1\" class=\"dataframe\">\n",
              "  <thead>\n",
              "    <tr style=\"text-align: right;\">\n",
              "      <th></th>\n",
              "      <th>url</th>\n",
              "      <th>title</th>\n",
              "      <th>text</th>\n",
              "      <th>topic</th>\n",
              "      <th>tags</th>\n",
              "      <th>date</th>\n",
              "    </tr>\n",
              "  </thead>\n",
              "  <tbody>\n",
              "    <tr>\n",
              "      <th>638503</th>\n",
              "      <td>https://lenta.ru/news/2017/01/01/mirzaevdelo/</td>\n",
              "      <td>Возбуждено дело по факту избиения Расула Мирзаева</td>\n",
              "      <td>Следственный комитет России возбудил уголовное...</td>\n",
              "      <td>Спорт</td>\n",
              "      <td>Бокс и ММА</td>\n",
              "      <td>2017-01-01</td>\n",
              "    </tr>\n",
              "    <tr>\n",
              "      <th>638504</th>\n",
              "      <td>https://lenta.ru/news/2017/01/01/dagestan/</td>\n",
              "      <td>Двое силовиков пострадали в спецоперации в Даг...</td>\n",
              "      <td>В Новолакском районе Дагестана проходит спецоп...</td>\n",
              "      <td>Силовые структуры</td>\n",
              "      <td>Криминал</td>\n",
              "      <td>2017-01-01</td>\n",
              "    </tr>\n",
              "    <tr>\n",
              "      <th>638505</th>\n",
              "      <td>https://lenta.ru/news/2017/01/01/39/</td>\n",
              "      <td>Число жертв атаки на ночной клуб в Стамбуле во...</td>\n",
              "      <td>В результате нападения на ночной клуб Reina в ...</td>\n",
              "      <td>Мир</td>\n",
              "      <td>Преступность</td>\n",
              "      <td>2017-01-01</td>\n",
              "    </tr>\n",
              "    <tr>\n",
              "      <th>638506</th>\n",
              "      <td>https://lenta.ru/news/2017/01/01/lukashenko/</td>\n",
              "      <td>Лукашенко призвал белорусов держать порох сухим</td>\n",
              "      <td>Президент Белоруссии Александр Лукашенко в нов...</td>\n",
              "      <td>Бывший СССР</td>\n",
              "      <td>Белоруссия</td>\n",
              "      <td>2017-01-01</td>\n",
              "    </tr>\n",
              "    <tr>\n",
              "      <th>638507</th>\n",
              "      <td>https://lenta.ru/news/2017/01/01/putin/</td>\n",
              "      <td>Путин отреагировал на теракт в Стамбуле</td>\n",
              "      <td>Президент России Владимир Путин направил турец...</td>\n",
              "      <td>Россия</td>\n",
              "      <td>Политика</td>\n",
              "      <td>2017-01-01</td>\n",
              "    </tr>\n",
              "    <tr>\n",
              "      <th>...</th>\n",
              "      <td>...</td>\n",
              "      <td>...</td>\n",
              "      <td>...</td>\n",
              "      <td>...</td>\n",
              "      <td>...</td>\n",
              "      <td>...</td>\n",
              "    </tr>\n",
              "    <tr>\n",
              "      <th>697290</th>\n",
              "      <td>https://lenta.ru/news/2017/12/31/protest/</td>\n",
              "      <td>Два человека погибли при погромах в Иране</td>\n",
              "      <td>Два человека погибли в ходе антиправительствен...</td>\n",
              "      <td>Мир</td>\n",
              "      <td>Общество</td>\n",
              "      <td>2017-12-31</td>\n",
              "    </tr>\n",
              "    <tr>\n",
              "      <th>697291</th>\n",
              "      <td>https://lenta.ru/news/2017/12/31/mad_russia/</td>\n",
              "      <td>Опубликован трейлер чемпионата мира по футболу...</td>\n",
              "      <td>Издание Bleacher Report в своем Twitter-аккаун...</td>\n",
              "      <td>Спорт</td>\n",
              "      <td>Футбол</td>\n",
              "      <td>2017-12-31</td>\n",
              "    </tr>\n",
              "    <tr>\n",
              "      <th>697292</th>\n",
              "      <td>https://lenta.ru/news/2017/12/31/pushkin/</td>\n",
              "      <td>Украинцы украли стоявший с царских времен бюст...</td>\n",
              "      <td>В Чернигове украден бюст русского поэта Алекса...</td>\n",
              "      <td>Бывший СССР</td>\n",
              "      <td>Украина</td>\n",
              "      <td>2017-12-31</td>\n",
              "    </tr>\n",
              "    <tr>\n",
              "      <th>697293</th>\n",
              "      <td>https://lenta.ru/news/2017/12/31/vk/</td>\n",
              "      <td>«ВКонтакте» случайно перешла на мову</td>\n",
              "      <td>Социальная сеть «ВКонтакте» разослала пользова...</td>\n",
              "      <td>Интернет и СМИ</td>\n",
              "      <td>Coцсети</td>\n",
              "      <td>2017-12-31</td>\n",
              "    </tr>\n",
              "    <tr>\n",
              "      <th>697294</th>\n",
              "      <td>https://lenta.ru/news/2017/12/31/sk/</td>\n",
              "      <td>СК спустя три дня после Путина признал взрыв в...</td>\n",
              "      <td>Предполагаемому организатору и исполнителю взр...</td>\n",
              "      <td>Силовые структуры</td>\n",
              "      <td>Следствие и суд</td>\n",
              "      <td>2017-12-31</td>\n",
              "    </tr>\n",
              "  </tbody>\n",
              "</table>\n",
              "<p>58792 rows × 6 columns</p>\n",
              "</div>\n",
              "      <button class=\"colab-df-convert\" onclick=\"convertToInteractive('df-3189ad78-3fce-42d4-9c87-7b4c6968c231')\"\n",
              "              title=\"Convert this dataframe to an interactive table.\"\n",
              "              style=\"display:none;\">\n",
              "\n",
              "  <svg xmlns=\"http://www.w3.org/2000/svg\" height=\"24px\"viewBox=\"0 0 24 24\"\n",
              "       width=\"24px\">\n",
              "    <path d=\"M0 0h24v24H0V0z\" fill=\"none\"/>\n",
              "    <path d=\"M18.56 5.44l.94 2.06.94-2.06 2.06-.94-2.06-.94-.94-2.06-.94 2.06-2.06.94zm-11 1L8.5 8.5l.94-2.06 2.06-.94-2.06-.94L8.5 2.5l-.94 2.06-2.06.94zm10 10l.94 2.06.94-2.06 2.06-.94-2.06-.94-.94-2.06-.94 2.06-2.06.94z\"/><path d=\"M17.41 7.96l-1.37-1.37c-.4-.4-.92-.59-1.43-.59-.52 0-1.04.2-1.43.59L10.3 9.45l-7.72 7.72c-.78.78-.78 2.05 0 2.83L4 21.41c.39.39.9.59 1.41.59.51 0 1.02-.2 1.41-.59l7.78-7.78 2.81-2.81c.8-.78.8-2.07 0-2.86zM5.41 20L4 18.59l7.72-7.72 1.47 1.35L5.41 20z\"/>\n",
              "  </svg>\n",
              "      </button>\n",
              "\n",
              "\n",
              "\n",
              "    <div id=\"df-16ba32fb-2bdd-4e31-8401-1a888d4cc146\">\n",
              "      <button class=\"colab-df-quickchart\" onclick=\"quickchart('df-16ba32fb-2bdd-4e31-8401-1a888d4cc146')\"\n",
              "              title=\"Suggest charts.\"\n",
              "              style=\"display:none;\">\n",
              "\n",
              "<svg xmlns=\"http://www.w3.org/2000/svg\" height=\"24px\"viewBox=\"0 0 24 24\"\n",
              "     width=\"24px\">\n",
              "    <g>\n",
              "        <path d=\"M19 3H5c-1.1 0-2 .9-2 2v14c0 1.1.9 2 2 2h14c1.1 0 2-.9 2-2V5c0-1.1-.9-2-2-2zM9 17H7v-7h2v7zm4 0h-2V7h2v10zm4 0h-2v-4h2v4z\"/>\n",
              "    </g>\n",
              "</svg>\n",
              "      </button>\n",
              "    </div>\n",
              "\n",
              "<style>\n",
              "  .colab-df-quickchart {\n",
              "    background-color: #E8F0FE;\n",
              "    border: none;\n",
              "    border-radius: 50%;\n",
              "    cursor: pointer;\n",
              "    display: none;\n",
              "    fill: #1967D2;\n",
              "    height: 32px;\n",
              "    padding: 0 0 0 0;\n",
              "    width: 32px;\n",
              "  }\n",
              "\n",
              "  .colab-df-quickchart:hover {\n",
              "    background-color: #E2EBFA;\n",
              "    box-shadow: 0px 1px 2px rgba(60, 64, 67, 0.3), 0px 1px 3px 1px rgba(60, 64, 67, 0.15);\n",
              "    fill: #174EA6;\n",
              "  }\n",
              "\n",
              "  [theme=dark] .colab-df-quickchart {\n",
              "    background-color: #3B4455;\n",
              "    fill: #D2E3FC;\n",
              "  }\n",
              "\n",
              "  [theme=dark] .colab-df-quickchart:hover {\n",
              "    background-color: #434B5C;\n",
              "    box-shadow: 0px 1px 3px 1px rgba(0, 0, 0, 0.15);\n",
              "    filter: drop-shadow(0px 1px 2px rgba(0, 0, 0, 0.3));\n",
              "    fill: #FFFFFF;\n",
              "  }\n",
              "</style>\n",
              "\n",
              "    <script>\n",
              "      async function quickchart(key) {\n",
              "        const containerElement = document.querySelector('#' + key);\n",
              "        const charts = await google.colab.kernel.invokeFunction(\n",
              "            'suggestCharts', [key], {});\n",
              "      }\n",
              "    </script>\n",
              "\n",
              "      <script>\n",
              "\n",
              "function displayQuickchartButton(domScope) {\n",
              "  let quickchartButtonEl =\n",
              "    domScope.querySelector('#df-16ba32fb-2bdd-4e31-8401-1a888d4cc146 button.colab-df-quickchart');\n",
              "  quickchartButtonEl.style.display =\n",
              "    google.colab.kernel.accessAllowed ? 'block' : 'none';\n",
              "}\n",
              "\n",
              "        displayQuickchartButton(document);\n",
              "      </script>\n",
              "      <style>\n",
              "    .colab-df-container {\n",
              "      display:flex;\n",
              "      flex-wrap:wrap;\n",
              "      gap: 12px;\n",
              "    }\n",
              "\n",
              "    .colab-df-convert {\n",
              "      background-color: #E8F0FE;\n",
              "      border: none;\n",
              "      border-radius: 50%;\n",
              "      cursor: pointer;\n",
              "      display: none;\n",
              "      fill: #1967D2;\n",
              "      height: 32px;\n",
              "      padding: 0 0 0 0;\n",
              "      width: 32px;\n",
              "    }\n",
              "\n",
              "    .colab-df-convert:hover {\n",
              "      background-color: #E2EBFA;\n",
              "      box-shadow: 0px 1px 2px rgba(60, 64, 67, 0.3), 0px 1px 3px 1px rgba(60, 64, 67, 0.15);\n",
              "      fill: #174EA6;\n",
              "    }\n",
              "\n",
              "    [theme=dark] .colab-df-convert {\n",
              "      background-color: #3B4455;\n",
              "      fill: #D2E3FC;\n",
              "    }\n",
              "\n",
              "    [theme=dark] .colab-df-convert:hover {\n",
              "      background-color: #434B5C;\n",
              "      box-shadow: 0px 1px 3px 1px rgba(0, 0, 0, 0.15);\n",
              "      filter: drop-shadow(0px 1px 2px rgba(0, 0, 0, 0.3));\n",
              "      fill: #FFFFFF;\n",
              "    }\n",
              "  </style>\n",
              "\n",
              "      <script>\n",
              "        const buttonEl =\n",
              "          document.querySelector('#df-3189ad78-3fce-42d4-9c87-7b4c6968c231 button.colab-df-convert');\n",
              "        buttonEl.style.display =\n",
              "          google.colab.kernel.accessAllowed ? 'block' : 'none';\n",
              "\n",
              "        async function convertToInteractive(key) {\n",
              "          const element = document.querySelector('#df-3189ad78-3fce-42d4-9c87-7b4c6968c231');\n",
              "          const dataTable =\n",
              "            await google.colab.kernel.invokeFunction('convertToInteractive',\n",
              "                                                     [key], {});\n",
              "          if (!dataTable) return;\n",
              "\n",
              "          const docLinkHtml = 'Like what you see? Visit the ' +\n",
              "            '<a target=\"_blank\" href=https://colab.research.google.com/notebooks/data_table.ipynb>data table notebook</a>'\n",
              "            + ' to learn more about interactive tables.';\n",
              "          element.innerHTML = '';\n",
              "          dataTable['output_type'] = 'display_data';\n",
              "          await google.colab.output.renderOutput(dataTable, element);\n",
              "          const docLink = document.createElement('div');\n",
              "          docLink.innerHTML = docLinkHtml;\n",
              "          element.appendChild(docLink);\n",
              "        }\n",
              "      </script>\n",
              "    </div>\n",
              "  </div>\n"
            ]
          },
          "metadata": {},
          "execution_count": 162
        }
      ]
    },
    {
      "cell_type": "code",
      "source": [
        "df_news_2017.reset_index(drop=True, inplace=True)"
      ],
      "metadata": {
        "id": "pK0nTlk5Kbyl"
      },
      "execution_count": null,
      "outputs": []
    },
    {
      "cell_type": "code",
      "source": [
        "df_news_2017.topic.value_counts()"
      ],
      "metadata": {
        "colab": {
          "base_uri": "https://localhost:8080/"
        },
        "id": "kBu2rXtDKf5L",
        "outputId": "021771bb-53d9-4ac6-9f5e-82e8bb98daf2"
      },
      "execution_count": null,
      "outputs": [
        {
          "output_type": "execute_result",
          "data": {
            "text/plain": [
              "россия               9530\n",
              "мир                  8732\n",
              "спорт                5521\n",
              "силовые структуры    4852\n",
              "Name: topic, dtype: int64"
            ]
          },
          "metadata": {},
          "execution_count": 23
        }
      ]
    },
    {
      "cell_type": "code",
      "source": [
        "df_news_2017 = df_news_2017.drop(df_news_2017[df_news_2017['topic'] == 'Оружие'].index)"
      ],
      "metadata": {
        "id": "r-_YFVOROSPS"
      },
      "execution_count": null,
      "outputs": []
    },
    {
      "cell_type": "code",
      "source": [
        "df_news_2017 = df_news_2017.drop(df_news_2017[df_news_2017['topic'] == 'Культпросвет'].index)\n",
        "df_news_2017 = df_news_2017.drop(df_news_2017[df_news_2017['topic'] == '69-я параллель'].index)\n",
        "df_news_2017 = df_news_2017.drop(df_news_2017[df_news_2017['topic'] == 'Крым'].index)"
      ],
      "metadata": {
        "id": "W8S9OcKEOxLk"
      },
      "execution_count": null,
      "outputs": []
    },
    {
      "cell_type": "code",
      "source": [
        "df_news_2017.reset_index(drop=True, inplace=True)"
      ],
      "metadata": {
        "id": "7csn6j1SO99I"
      },
      "execution_count": null,
      "outputs": []
    },
    {
      "cell_type": "code",
      "source": [
        "df_news_2017 = df_news_2017.drop(df_news_2017[df_news_2017['topic'] == 'Дом'].index)\n",
        "df_news_2017 = df_news_2017.drop(df_news_2017[df_news_2017['topic'] == 'Из жизни'].index)\n",
        "df_news_2017 = df_news_2017.drop(df_news_2017[df_news_2017['topic'] == 'Бизнес'].index)\n",
        "df_news_2017 = df_news_2017.drop(df_news_2017[df_news_2017['topic'] == 'Путешествия'].index)\n",
        "df_news_2017 = df_news_2017.drop(df_news_2017[df_news_2017['topic'] == 'Наука и техника'].index)\n",
        "df_news_2017 = df_news_2017.drop(df_news_2017[df_news_2017['topic'] == 'Ценности'].index)\n",
        "df_news_2017 = df_news_2017.drop(df_news_2017[df_news_2017['topic'] == 'Экономика'].index)\n",
        "df_news_2017 = df_news_2017.drop(df_news_2017[df_news_2017['topic'] == 'Интернет и СМИ'].index)\n",
        "df_news_2017 = df_news_2017.drop(df_news_2017[df_news_2017['topic'] == 'Культура'].index)\n",
        "df_news_2017 = df_news_2017.drop(df_news_2017[df_news_2017['topic'] == 'Бывший СССР'].index)"
      ],
      "metadata": {
        "id": "7StRCTcbV8fd"
      },
      "execution_count": null,
      "outputs": []
    },
    {
      "cell_type": "code",
      "source": [
        "df_news_2017"
      ],
      "metadata": {
        "colab": {
          "base_uri": "https://localhost:8080/",
          "height": 424
        },
        "id": "zMPGEFIkXQCS",
        "outputId": "dffd654b-be24-4586-8791-491e513d65e5"
      },
      "execution_count": null,
      "outputs": [
        {
          "output_type": "execute_result",
          "data": {
            "text/plain": [
              "                                                 url  \\\n",
              "0      https://lenta.ru/news/2017/01/01/mirzaevdelo/   \n",
              "1         https://lenta.ru/news/2017/01/01/dagestan/   \n",
              "2               https://lenta.ru/news/2017/01/01/39/   \n",
              "3            https://lenta.ru/news/2017/01/01/putin/   \n",
              "4           https://lenta.ru/news/2017/01/01/russvk/   \n",
              "...                                              ...   \n",
              "28638  https://lenta.ru/news/2017/12/31/zahoronenie/   \n",
              "28639        https://lenta.ru/news/2017/12/31/putin/   \n",
              "28640      https://lenta.ru/news/2017/12/31/protest/   \n",
              "28641   https://lenta.ru/news/2017/12/31/mad_russia/   \n",
              "28642           https://lenta.ru/news/2017/12/31/sk/   \n",
              "\n",
              "                                                   title  \\\n",
              "0      Возбуждено дело по факту избиения Расула Мирзаева   \n",
              "1      Двое силовиков пострадали в спецоперации в Даг...   \n",
              "2      Число жертв атаки на ночной клуб в Стамбуле во...   \n",
              "3                Путин отреагировал на теракт в Стамбуле   \n",
              "4      Опубликовано видео лучших моментов матча Росси...   \n",
              "...                                                  ...   \n",
              "28638   Массовые захоронения жертв ИГ обнаружили в Ракке   \n",
              "28639              Появилось новогоднее обращение Путина   \n",
              "28640          Два человека погибли при погромах в Иране   \n",
              "28641  Опубликован трейлер чемпионата мира по футболу...   \n",
              "28642  СК спустя три дня после Путина признал взрыв в...   \n",
              "\n",
              "                                                    text              topic  \\\n",
              "0      Следственный комитет России возбудил уголовное...              спорт   \n",
              "1      В Новолакском районе Дагестана проходит спецоп...  силовые структуры   \n",
              "2      В результате нападения на ночной клуб Reina в ...                мир   \n",
              "3      Президент России Владимир Путин направил турец...             россия   \n",
              "4      Появилось видео с лучшими моментами матча моло...              спорт   \n",
              "...                                                  ...                ...   \n",
              "28638  Два массовых захоронения жертв боевиков террор...                мир   \n",
              "28639  В сети появилась видеозапись новогоднего обращ...             россия   \n",
              "28640  Два человека погибли в ходе антиправительствен...                мир   \n",
              "28641  Издание Bleacher Report в своем Twitter-аккаун...              спорт   \n",
              "28642  Предполагаемому организатору и исполнителю взр...  силовые структуры   \n",
              "\n",
              "                  tags       date  \\\n",
              "0           Бокс и ММА 2017-01-01   \n",
              "1             Криминал 2017-01-01   \n",
              "2         Преступность 2017-01-01   \n",
              "3             Политика 2017-01-01   \n",
              "4               Хоккей 2017-01-01   \n",
              "...                ...        ...   \n",
              "28638        Конфликты 2017-12-31   \n",
              "28639         Политика 2017-12-31   \n",
              "28640         Общество 2017-12-31   \n",
              "28641           Футбол 2017-12-31   \n",
              "28642  Следствие и суд 2017-12-31   \n",
              "\n",
              "                                                    data  \n",
              "0      Возбуждено дело по факту избиения Расула Мирза...  \n",
              "1      Двое силовиков пострадали в спецоперации в Даг...  \n",
              "2      Число жертв атаки на ночной клуб в Стамбуле во...  \n",
              "3      Путин отреагировал на теракт в Стамбуле Презид...  \n",
              "4      Опубликовано видео лучших моментов матча Росси...  \n",
              "...                                                  ...  \n",
              "28638  Массовые захоронения жертв ИГ обнаружили в Рак...  \n",
              "28639  Появилось новогоднее обращение Путина В сети п...  \n",
              "28640  Два человека погибли при погромах в Иране Два ...  \n",
              "28641  Опубликован трейлер чемпионата мира по футболу...  \n",
              "28642  СК спустя три дня после Путина признал взрыв в...  \n",
              "\n",
              "[28643 rows x 7 columns]"
            ],
            "text/html": [
              "\n",
              "\n",
              "  <div id=\"df-15bc7e3f-d4a1-4c1d-88f9-3d7aeca7414d\">\n",
              "    <div class=\"colab-df-container\">\n",
              "      <div>\n",
              "<style scoped>\n",
              "    .dataframe tbody tr th:only-of-type {\n",
              "        vertical-align: middle;\n",
              "    }\n",
              "\n",
              "    .dataframe tbody tr th {\n",
              "        vertical-align: top;\n",
              "    }\n",
              "\n",
              "    .dataframe thead th {\n",
              "        text-align: right;\n",
              "    }\n",
              "</style>\n",
              "<table border=\"1\" class=\"dataframe\">\n",
              "  <thead>\n",
              "    <tr style=\"text-align: right;\">\n",
              "      <th></th>\n",
              "      <th>url</th>\n",
              "      <th>title</th>\n",
              "      <th>text</th>\n",
              "      <th>topic</th>\n",
              "      <th>tags</th>\n",
              "      <th>date</th>\n",
              "      <th>data</th>\n",
              "    </tr>\n",
              "  </thead>\n",
              "  <tbody>\n",
              "    <tr>\n",
              "      <th>0</th>\n",
              "      <td>https://lenta.ru/news/2017/01/01/mirzaevdelo/</td>\n",
              "      <td>Возбуждено дело по факту избиения Расула Мирзаева</td>\n",
              "      <td>Следственный комитет России возбудил уголовное...</td>\n",
              "      <td>спорт</td>\n",
              "      <td>Бокс и ММА</td>\n",
              "      <td>2017-01-01</td>\n",
              "      <td>Возбуждено дело по факту избиения Расула Мирза...</td>\n",
              "    </tr>\n",
              "    <tr>\n",
              "      <th>1</th>\n",
              "      <td>https://lenta.ru/news/2017/01/01/dagestan/</td>\n",
              "      <td>Двое силовиков пострадали в спецоперации в Даг...</td>\n",
              "      <td>В Новолакском районе Дагестана проходит спецоп...</td>\n",
              "      <td>силовые структуры</td>\n",
              "      <td>Криминал</td>\n",
              "      <td>2017-01-01</td>\n",
              "      <td>Двое силовиков пострадали в спецоперации в Даг...</td>\n",
              "    </tr>\n",
              "    <tr>\n",
              "      <th>2</th>\n",
              "      <td>https://lenta.ru/news/2017/01/01/39/</td>\n",
              "      <td>Число жертв атаки на ночной клуб в Стамбуле во...</td>\n",
              "      <td>В результате нападения на ночной клуб Reina в ...</td>\n",
              "      <td>мир</td>\n",
              "      <td>Преступность</td>\n",
              "      <td>2017-01-01</td>\n",
              "      <td>Число жертв атаки на ночной клуб в Стамбуле во...</td>\n",
              "    </tr>\n",
              "    <tr>\n",
              "      <th>3</th>\n",
              "      <td>https://lenta.ru/news/2017/01/01/putin/</td>\n",
              "      <td>Путин отреагировал на теракт в Стамбуле</td>\n",
              "      <td>Президент России Владимир Путин направил турец...</td>\n",
              "      <td>россия</td>\n",
              "      <td>Политика</td>\n",
              "      <td>2017-01-01</td>\n",
              "      <td>Путин отреагировал на теракт в Стамбуле Презид...</td>\n",
              "    </tr>\n",
              "    <tr>\n",
              "      <th>4</th>\n",
              "      <td>https://lenta.ru/news/2017/01/01/russvk/</td>\n",
              "      <td>Опубликовано видео лучших моментов матча Росси...</td>\n",
              "      <td>Появилось видео с лучшими моментами матча моло...</td>\n",
              "      <td>спорт</td>\n",
              "      <td>Хоккей</td>\n",
              "      <td>2017-01-01</td>\n",
              "      <td>Опубликовано видео лучших моментов матча Росси...</td>\n",
              "    </tr>\n",
              "    <tr>\n",
              "      <th>...</th>\n",
              "      <td>...</td>\n",
              "      <td>...</td>\n",
              "      <td>...</td>\n",
              "      <td>...</td>\n",
              "      <td>...</td>\n",
              "      <td>...</td>\n",
              "      <td>...</td>\n",
              "    </tr>\n",
              "    <tr>\n",
              "      <th>28638</th>\n",
              "      <td>https://lenta.ru/news/2017/12/31/zahoronenie/</td>\n",
              "      <td>Массовые захоронения жертв ИГ обнаружили в Ракке</td>\n",
              "      <td>Два массовых захоронения жертв боевиков террор...</td>\n",
              "      <td>мир</td>\n",
              "      <td>Конфликты</td>\n",
              "      <td>2017-12-31</td>\n",
              "      <td>Массовые захоронения жертв ИГ обнаружили в Рак...</td>\n",
              "    </tr>\n",
              "    <tr>\n",
              "      <th>28639</th>\n",
              "      <td>https://lenta.ru/news/2017/12/31/putin/</td>\n",
              "      <td>Появилось новогоднее обращение Путина</td>\n",
              "      <td>В сети появилась видеозапись новогоднего обращ...</td>\n",
              "      <td>россия</td>\n",
              "      <td>Политика</td>\n",
              "      <td>2017-12-31</td>\n",
              "      <td>Появилось новогоднее обращение Путина В сети п...</td>\n",
              "    </tr>\n",
              "    <tr>\n",
              "      <th>28640</th>\n",
              "      <td>https://lenta.ru/news/2017/12/31/protest/</td>\n",
              "      <td>Два человека погибли при погромах в Иране</td>\n",
              "      <td>Два человека погибли в ходе антиправительствен...</td>\n",
              "      <td>мир</td>\n",
              "      <td>Общество</td>\n",
              "      <td>2017-12-31</td>\n",
              "      <td>Два человека погибли при погромах в Иране Два ...</td>\n",
              "    </tr>\n",
              "    <tr>\n",
              "      <th>28641</th>\n",
              "      <td>https://lenta.ru/news/2017/12/31/mad_russia/</td>\n",
              "      <td>Опубликован трейлер чемпионата мира по футболу...</td>\n",
              "      <td>Издание Bleacher Report в своем Twitter-аккаун...</td>\n",
              "      <td>спорт</td>\n",
              "      <td>Футбол</td>\n",
              "      <td>2017-12-31</td>\n",
              "      <td>Опубликован трейлер чемпионата мира по футболу...</td>\n",
              "    </tr>\n",
              "    <tr>\n",
              "      <th>28642</th>\n",
              "      <td>https://lenta.ru/news/2017/12/31/sk/</td>\n",
              "      <td>СК спустя три дня после Путина признал взрыв в...</td>\n",
              "      <td>Предполагаемому организатору и исполнителю взр...</td>\n",
              "      <td>силовые структуры</td>\n",
              "      <td>Следствие и суд</td>\n",
              "      <td>2017-12-31</td>\n",
              "      <td>СК спустя три дня после Путина признал взрыв в...</td>\n",
              "    </tr>\n",
              "  </tbody>\n",
              "</table>\n",
              "<p>28643 rows × 7 columns</p>\n",
              "</div>\n",
              "      <button class=\"colab-df-convert\" onclick=\"convertToInteractive('df-15bc7e3f-d4a1-4c1d-88f9-3d7aeca7414d')\"\n",
              "              title=\"Convert this dataframe to an interactive table.\"\n",
              "              style=\"display:none;\">\n",
              "\n",
              "  <svg xmlns=\"http://www.w3.org/2000/svg\" height=\"24px\"viewBox=\"0 0 24 24\"\n",
              "       width=\"24px\">\n",
              "    <path d=\"M0 0h24v24H0V0z\" fill=\"none\"/>\n",
              "    <path d=\"M18.56 5.44l.94 2.06.94-2.06 2.06-.94-2.06-.94-.94-2.06-.94 2.06-2.06.94zm-11 1L8.5 8.5l.94-2.06 2.06-.94-2.06-.94L8.5 2.5l-.94 2.06-2.06.94zm10 10l.94 2.06.94-2.06 2.06-.94-2.06-.94-.94-2.06-.94 2.06-2.06.94z\"/><path d=\"M17.41 7.96l-1.37-1.37c-.4-.4-.92-.59-1.43-.59-.52 0-1.04.2-1.43.59L10.3 9.45l-7.72 7.72c-.78.78-.78 2.05 0 2.83L4 21.41c.39.39.9.59 1.41.59.51 0 1.02-.2 1.41-.59l7.78-7.78 2.81-2.81c.8-.78.8-2.07 0-2.86zM5.41 20L4 18.59l7.72-7.72 1.47 1.35L5.41 20z\"/>\n",
              "  </svg>\n",
              "      </button>\n",
              "\n",
              "\n",
              "\n",
              "    <div id=\"df-c8daac00-ffa0-4d55-9d58-87edd72786a6\">\n",
              "      <button class=\"colab-df-quickchart\" onclick=\"quickchart('df-c8daac00-ffa0-4d55-9d58-87edd72786a6')\"\n",
              "              title=\"Suggest charts.\"\n",
              "              style=\"display:none;\">\n",
              "\n",
              "<svg xmlns=\"http://www.w3.org/2000/svg\" height=\"24px\"viewBox=\"0 0 24 24\"\n",
              "     width=\"24px\">\n",
              "    <g>\n",
              "        <path d=\"M19 3H5c-1.1 0-2 .9-2 2v14c0 1.1.9 2 2 2h14c1.1 0 2-.9 2-2V5c0-1.1-.9-2-2-2zM9 17H7v-7h2v7zm4 0h-2V7h2v10zm4 0h-2v-4h2v4z\"/>\n",
              "    </g>\n",
              "</svg>\n",
              "      </button>\n",
              "    </div>\n",
              "\n",
              "<style>\n",
              "  .colab-df-quickchart {\n",
              "    background-color: #E8F0FE;\n",
              "    border: none;\n",
              "    border-radius: 50%;\n",
              "    cursor: pointer;\n",
              "    display: none;\n",
              "    fill: #1967D2;\n",
              "    height: 32px;\n",
              "    padding: 0 0 0 0;\n",
              "    width: 32px;\n",
              "  }\n",
              "\n",
              "  .colab-df-quickchart:hover {\n",
              "    background-color: #E2EBFA;\n",
              "    box-shadow: 0px 1px 2px rgba(60, 64, 67, 0.3), 0px 1px 3px 1px rgba(60, 64, 67, 0.15);\n",
              "    fill: #174EA6;\n",
              "  }\n",
              "\n",
              "  [theme=dark] .colab-df-quickchart {\n",
              "    background-color: #3B4455;\n",
              "    fill: #D2E3FC;\n",
              "  }\n",
              "\n",
              "  [theme=dark] .colab-df-quickchart:hover {\n",
              "    background-color: #434B5C;\n",
              "    box-shadow: 0px 1px 3px 1px rgba(0, 0, 0, 0.15);\n",
              "    filter: drop-shadow(0px 1px 2px rgba(0, 0, 0, 0.3));\n",
              "    fill: #FFFFFF;\n",
              "  }\n",
              "</style>\n",
              "\n",
              "    <script>\n",
              "      async function quickchart(key) {\n",
              "        const containerElement = document.querySelector('#' + key);\n",
              "        const charts = await google.colab.kernel.invokeFunction(\n",
              "            'suggestCharts', [key], {});\n",
              "      }\n",
              "    </script>\n",
              "\n",
              "      <script>\n",
              "\n",
              "function displayQuickchartButton(domScope) {\n",
              "  let quickchartButtonEl =\n",
              "    domScope.querySelector('#df-c8daac00-ffa0-4d55-9d58-87edd72786a6 button.colab-df-quickchart');\n",
              "  quickchartButtonEl.style.display =\n",
              "    google.colab.kernel.accessAllowed ? 'block' : 'none';\n",
              "}\n",
              "\n",
              "        displayQuickchartButton(document);\n",
              "      </script>\n",
              "      <style>\n",
              "    .colab-df-container {\n",
              "      display:flex;\n",
              "      flex-wrap:wrap;\n",
              "      gap: 12px;\n",
              "    }\n",
              "\n",
              "    .colab-df-convert {\n",
              "      background-color: #E8F0FE;\n",
              "      border: none;\n",
              "      border-radius: 50%;\n",
              "      cursor: pointer;\n",
              "      display: none;\n",
              "      fill: #1967D2;\n",
              "      height: 32px;\n",
              "      padding: 0 0 0 0;\n",
              "      width: 32px;\n",
              "    }\n",
              "\n",
              "    .colab-df-convert:hover {\n",
              "      background-color: #E2EBFA;\n",
              "      box-shadow: 0px 1px 2px rgba(60, 64, 67, 0.3), 0px 1px 3px 1px rgba(60, 64, 67, 0.15);\n",
              "      fill: #174EA6;\n",
              "    }\n",
              "\n",
              "    [theme=dark] .colab-df-convert {\n",
              "      background-color: #3B4455;\n",
              "      fill: #D2E3FC;\n",
              "    }\n",
              "\n",
              "    [theme=dark] .colab-df-convert:hover {\n",
              "      background-color: #434B5C;\n",
              "      box-shadow: 0px 1px 3px 1px rgba(0, 0, 0, 0.15);\n",
              "      filter: drop-shadow(0px 1px 2px rgba(0, 0, 0, 0.3));\n",
              "      fill: #FFFFFF;\n",
              "    }\n",
              "  </style>\n",
              "\n",
              "      <script>\n",
              "        const buttonEl =\n",
              "          document.querySelector('#df-15bc7e3f-d4a1-4c1d-88f9-3d7aeca7414d button.colab-df-convert');\n",
              "        buttonEl.style.display =\n",
              "          google.colab.kernel.accessAllowed ? 'block' : 'none';\n",
              "\n",
              "        async function convertToInteractive(key) {\n",
              "          const element = document.querySelector('#df-15bc7e3f-d4a1-4c1d-88f9-3d7aeca7414d');\n",
              "          const dataTable =\n",
              "            await google.colab.kernel.invokeFunction('convertToInteractive',\n",
              "                                                     [key], {});\n",
              "          if (!dataTable) return;\n",
              "\n",
              "          const docLinkHtml = 'Like what you see? Visit the ' +\n",
              "            '<a target=\"_blank\" href=https://colab.research.google.com/notebooks/data_table.ipynb>data table notebook</a>'\n",
              "            + ' to learn more about interactive tables.';\n",
              "          element.innerHTML = '';\n",
              "          dataTable['output_type'] = 'display_data';\n",
              "          await google.colab.output.renderOutput(dataTable, element);\n",
              "          const docLink = document.createElement('div');\n",
              "          docLink.innerHTML = docLinkHtml;\n",
              "          element.appendChild(docLink);\n",
              "        }\n",
              "      </script>\n",
              "    </div>\n",
              "  </div>\n"
            ]
          },
          "metadata": {},
          "execution_count": 180
        }
      ]
    },
    {
      "cell_type": "code",
      "source": [
        "df_news_2017 = df_news_2017.drop(df_news_2017[df_news_2017['topic'] == 'Культпросвет'].index)"
      ],
      "metadata": {
        "id": "3hkI16L3XqLt"
      },
      "execution_count": null,
      "outputs": []
    },
    {
      "cell_type": "code",
      "source": [
        "df_news_2017['topic'] = df_news_2017['topic'].str.strip()"
      ],
      "metadata": {
        "id": "3n9xovp5ZH53"
      },
      "execution_count": null,
      "outputs": []
    },
    {
      "cell_type": "code",
      "source": [
        "df_news_2017['topic'] = df_news_2017['topic'].str.lower()"
      ],
      "metadata": {
        "id": "fRhWEcoibGSU"
      },
      "execution_count": null,
      "outputs": []
    },
    {
      "cell_type": "code",
      "source": [
        "df_news_2017 = df_news_2017.drop(df_news_2017[df_news_2017['topic'] == 'культпросвет'].index)"
      ],
      "metadata": {
        "id": "SwC70Nf5bIax"
      },
      "execution_count": null,
      "outputs": []
    },
    {
      "cell_type": "code",
      "source": [
        "df_news_2017['data'] = df_news_2017['title']+' '+df_news_2017['text']"
      ],
      "metadata": {
        "id": "L5q9kK7ZcJFR"
      },
      "execution_count": null,
      "outputs": []
    },
    {
      "cell_type": "code",
      "source": [
        "df_news_2017.drop(columns=['url', 'title', 'text', 'tags', 'date'], inplace=True)"
      ],
      "metadata": {
        "id": "7YePOA0Ju2ZG"
      },
      "execution_count": null,
      "outputs": []
    },
    {
      "cell_type": "code",
      "source": [
        "df_news_2017"
      ],
      "metadata": {
        "colab": {
          "base_uri": "https://localhost:8080/",
          "height": 424
        },
        "id": "HVsceaXzwYTt",
        "outputId": "96c21d76-a265-4331-fed1-c0527b2a6e37"
      },
      "execution_count": null,
      "outputs": [
        {
          "output_type": "execute_result",
          "data": {
            "text/plain": [
              "                   topic                                               data  \\\n",
              "0                  спорт  Возбуждено дело по факту избиения Расула Мирза...   \n",
              "1      силовые структуры  Двое силовиков пострадали в спецоперации в Даг...   \n",
              "2                  спорт  Опубликовано видео лучших моментов матча Росси...   \n",
              "3                    мир  Эрдоган назвал цель стамбульского теракта Цель...   \n",
              "4                 россия  В МЧС констатировали отсутствие серьезных прои...   \n",
              "...                  ...                                                ...   \n",
              "19838             россия  На Сахалине пошумели и спалили дотла 25-метров...   \n",
              "19839              спорт  Боксер Дрозд завершил карьеру Российский боксе...   \n",
              "19840              спорт  Нападающий «Манчестер Сити» заплакал из-за пол...   \n",
              "19841              спорт  Опубликован трейлер чемпионата мира по футболу...   \n",
              "19842  силовые структуры  СК спустя три дня после Путина признал взрыв в...   \n",
              "\n",
              "                                              data_clean  \n",
              "0      возбуждено дело по факту избиения расула мирза...  \n",
              "1      двое силовиков пострадали в спецоперации в даг...  \n",
              "2      опубликовано видео лучших моментов матча росси...  \n",
              "3      эрдоган назвал цель стамбульского теракта цель...  \n",
              "4      в мчс констатировали отсутствие серьезных прои...  \n",
              "...                                                  ...  \n",
              "19838  на сахалине пошумели и спалили дотла  метровую...  \n",
              "19839  боксер дрозд завершил карьеру российский боксе...  \n",
              "19840  нападающий  манчестер сити  заплакал из за пол...  \n",
              "19841  опубликован трейлер чемпионата мира по футболу...  \n",
              "19842  ск спустя три дня после путина признал взрыв в...  \n",
              "\n",
              "[19843 rows x 3 columns]"
            ],
            "text/html": [
              "\n",
              "\n",
              "  <div id=\"df-55fc4358-8e25-4680-b3bc-2e340369f5cb\">\n",
              "    <div class=\"colab-df-container\">\n",
              "      <div>\n",
              "<style scoped>\n",
              "    .dataframe tbody tr th:only-of-type {\n",
              "        vertical-align: middle;\n",
              "    }\n",
              "\n",
              "    .dataframe tbody tr th {\n",
              "        vertical-align: top;\n",
              "    }\n",
              "\n",
              "    .dataframe thead th {\n",
              "        text-align: right;\n",
              "    }\n",
              "</style>\n",
              "<table border=\"1\" class=\"dataframe\">\n",
              "  <thead>\n",
              "    <tr style=\"text-align: right;\">\n",
              "      <th></th>\n",
              "      <th>topic</th>\n",
              "      <th>data</th>\n",
              "      <th>data_clean</th>\n",
              "    </tr>\n",
              "  </thead>\n",
              "  <tbody>\n",
              "    <tr>\n",
              "      <th>0</th>\n",
              "      <td>спорт</td>\n",
              "      <td>Возбуждено дело по факту избиения Расула Мирза...</td>\n",
              "      <td>возбуждено дело по факту избиения расула мирза...</td>\n",
              "    </tr>\n",
              "    <tr>\n",
              "      <th>1</th>\n",
              "      <td>силовые структуры</td>\n",
              "      <td>Двое силовиков пострадали в спецоперации в Даг...</td>\n",
              "      <td>двое силовиков пострадали в спецоперации в даг...</td>\n",
              "    </tr>\n",
              "    <tr>\n",
              "      <th>2</th>\n",
              "      <td>спорт</td>\n",
              "      <td>Опубликовано видео лучших моментов матча Росси...</td>\n",
              "      <td>опубликовано видео лучших моментов матча росси...</td>\n",
              "    </tr>\n",
              "    <tr>\n",
              "      <th>3</th>\n",
              "      <td>мир</td>\n",
              "      <td>Эрдоган назвал цель стамбульского теракта Цель...</td>\n",
              "      <td>эрдоган назвал цель стамбульского теракта цель...</td>\n",
              "    </tr>\n",
              "    <tr>\n",
              "      <th>4</th>\n",
              "      <td>россия</td>\n",
              "      <td>В МЧС констатировали отсутствие серьезных прои...</td>\n",
              "      <td>в мчс констатировали отсутствие серьезных прои...</td>\n",
              "    </tr>\n",
              "    <tr>\n",
              "      <th>...</th>\n",
              "      <td>...</td>\n",
              "      <td>...</td>\n",
              "      <td>...</td>\n",
              "    </tr>\n",
              "    <tr>\n",
              "      <th>19838</th>\n",
              "      <td>россия</td>\n",
              "      <td>На Сахалине пошумели и спалили дотла 25-метров...</td>\n",
              "      <td>на сахалине пошумели и спалили дотла  метровую...</td>\n",
              "    </tr>\n",
              "    <tr>\n",
              "      <th>19839</th>\n",
              "      <td>спорт</td>\n",
              "      <td>Боксер Дрозд завершил карьеру Российский боксе...</td>\n",
              "      <td>боксер дрозд завершил карьеру российский боксе...</td>\n",
              "    </tr>\n",
              "    <tr>\n",
              "      <th>19840</th>\n",
              "      <td>спорт</td>\n",
              "      <td>Нападающий «Манчестер Сити» заплакал из-за пол...</td>\n",
              "      <td>нападающий  манчестер сити  заплакал из за пол...</td>\n",
              "    </tr>\n",
              "    <tr>\n",
              "      <th>19841</th>\n",
              "      <td>спорт</td>\n",
              "      <td>Опубликован трейлер чемпионата мира по футболу...</td>\n",
              "      <td>опубликован трейлер чемпионата мира по футболу...</td>\n",
              "    </tr>\n",
              "    <tr>\n",
              "      <th>19842</th>\n",
              "      <td>силовые структуры</td>\n",
              "      <td>СК спустя три дня после Путина признал взрыв в...</td>\n",
              "      <td>ск спустя три дня после путина признал взрыв в...</td>\n",
              "    </tr>\n",
              "  </tbody>\n",
              "</table>\n",
              "<p>19843 rows × 3 columns</p>\n",
              "</div>\n",
              "      <button class=\"colab-df-convert\" onclick=\"convertToInteractive('df-55fc4358-8e25-4680-b3bc-2e340369f5cb')\"\n",
              "              title=\"Convert this dataframe to an interactive table.\"\n",
              "              style=\"display:none;\">\n",
              "\n",
              "  <svg xmlns=\"http://www.w3.org/2000/svg\" height=\"24px\"viewBox=\"0 0 24 24\"\n",
              "       width=\"24px\">\n",
              "    <path d=\"M0 0h24v24H0V0z\" fill=\"none\"/>\n",
              "    <path d=\"M18.56 5.44l.94 2.06.94-2.06 2.06-.94-2.06-.94-.94-2.06-.94 2.06-2.06.94zm-11 1L8.5 8.5l.94-2.06 2.06-.94-2.06-.94L8.5 2.5l-.94 2.06-2.06.94zm10 10l.94 2.06.94-2.06 2.06-.94-2.06-.94-.94-2.06-.94 2.06-2.06.94z\"/><path d=\"M17.41 7.96l-1.37-1.37c-.4-.4-.92-.59-1.43-.59-.52 0-1.04.2-1.43.59L10.3 9.45l-7.72 7.72c-.78.78-.78 2.05 0 2.83L4 21.41c.39.39.9.59 1.41.59.51 0 1.02-.2 1.41-.59l7.78-7.78 2.81-2.81c.8-.78.8-2.07 0-2.86zM5.41 20L4 18.59l7.72-7.72 1.47 1.35L5.41 20z\"/>\n",
              "  </svg>\n",
              "      </button>\n",
              "\n",
              "\n",
              "\n",
              "    <div id=\"df-7377af68-7456-4d76-bdd5-7fff2d5444b2\">\n",
              "      <button class=\"colab-df-quickchart\" onclick=\"quickchart('df-7377af68-7456-4d76-bdd5-7fff2d5444b2')\"\n",
              "              title=\"Suggest charts.\"\n",
              "              style=\"display:none;\">\n",
              "\n",
              "<svg xmlns=\"http://www.w3.org/2000/svg\" height=\"24px\"viewBox=\"0 0 24 24\"\n",
              "     width=\"24px\">\n",
              "    <g>\n",
              "        <path d=\"M19 3H5c-1.1 0-2 .9-2 2v14c0 1.1.9 2 2 2h14c1.1 0 2-.9 2-2V5c0-1.1-.9-2-2-2zM9 17H7v-7h2v7zm4 0h-2V7h2v10zm4 0h-2v-4h2v4z\"/>\n",
              "    </g>\n",
              "</svg>\n",
              "      </button>\n",
              "    </div>\n",
              "\n",
              "<style>\n",
              "  .colab-df-quickchart {\n",
              "    background-color: #E8F0FE;\n",
              "    border: none;\n",
              "    border-radius: 50%;\n",
              "    cursor: pointer;\n",
              "    display: none;\n",
              "    fill: #1967D2;\n",
              "    height: 32px;\n",
              "    padding: 0 0 0 0;\n",
              "    width: 32px;\n",
              "  }\n",
              "\n",
              "  .colab-df-quickchart:hover {\n",
              "    background-color: #E2EBFA;\n",
              "    box-shadow: 0px 1px 2px rgba(60, 64, 67, 0.3), 0px 1px 3px 1px rgba(60, 64, 67, 0.15);\n",
              "    fill: #174EA6;\n",
              "  }\n",
              "\n",
              "  [theme=dark] .colab-df-quickchart {\n",
              "    background-color: #3B4455;\n",
              "    fill: #D2E3FC;\n",
              "  }\n",
              "\n",
              "  [theme=dark] .colab-df-quickchart:hover {\n",
              "    background-color: #434B5C;\n",
              "    box-shadow: 0px 1px 3px 1px rgba(0, 0, 0, 0.15);\n",
              "    filter: drop-shadow(0px 1px 2px rgba(0, 0, 0, 0.3));\n",
              "    fill: #FFFFFF;\n",
              "  }\n",
              "</style>\n",
              "\n",
              "    <script>\n",
              "      async function quickchart(key) {\n",
              "        const containerElement = document.querySelector('#' + key);\n",
              "        const charts = await google.colab.kernel.invokeFunction(\n",
              "            'suggestCharts', [key], {});\n",
              "      }\n",
              "    </script>\n",
              "\n",
              "      <script>\n",
              "\n",
              "function displayQuickchartButton(domScope) {\n",
              "  let quickchartButtonEl =\n",
              "    domScope.querySelector('#df-7377af68-7456-4d76-bdd5-7fff2d5444b2 button.colab-df-quickchart');\n",
              "  quickchartButtonEl.style.display =\n",
              "    google.colab.kernel.accessAllowed ? 'block' : 'none';\n",
              "}\n",
              "\n",
              "        displayQuickchartButton(document);\n",
              "      </script>\n",
              "      <style>\n",
              "    .colab-df-container {\n",
              "      display:flex;\n",
              "      flex-wrap:wrap;\n",
              "      gap: 12px;\n",
              "    }\n",
              "\n",
              "    .colab-df-convert {\n",
              "      background-color: #E8F0FE;\n",
              "      border: none;\n",
              "      border-radius: 50%;\n",
              "      cursor: pointer;\n",
              "      display: none;\n",
              "      fill: #1967D2;\n",
              "      height: 32px;\n",
              "      padding: 0 0 0 0;\n",
              "      width: 32px;\n",
              "    }\n",
              "\n",
              "    .colab-df-convert:hover {\n",
              "      background-color: #E2EBFA;\n",
              "      box-shadow: 0px 1px 2px rgba(60, 64, 67, 0.3), 0px 1px 3px 1px rgba(60, 64, 67, 0.15);\n",
              "      fill: #174EA6;\n",
              "    }\n",
              "\n",
              "    [theme=dark] .colab-df-convert {\n",
              "      background-color: #3B4455;\n",
              "      fill: #D2E3FC;\n",
              "    }\n",
              "\n",
              "    [theme=dark] .colab-df-convert:hover {\n",
              "      background-color: #434B5C;\n",
              "      box-shadow: 0px 1px 3px 1px rgba(0, 0, 0, 0.15);\n",
              "      filter: drop-shadow(0px 1px 2px rgba(0, 0, 0, 0.3));\n",
              "      fill: #FFFFFF;\n",
              "    }\n",
              "  </style>\n",
              "\n",
              "      <script>\n",
              "        const buttonEl =\n",
              "          document.querySelector('#df-55fc4358-8e25-4680-b3bc-2e340369f5cb button.colab-df-convert');\n",
              "        buttonEl.style.display =\n",
              "          google.colab.kernel.accessAllowed ? 'block' : 'none';\n",
              "\n",
              "        async function convertToInteractive(key) {\n",
              "          const element = document.querySelector('#df-55fc4358-8e25-4680-b3bc-2e340369f5cb');\n",
              "          const dataTable =\n",
              "            await google.colab.kernel.invokeFunction('convertToInteractive',\n",
              "                                                     [key], {});\n",
              "          if (!dataTable) return;\n",
              "\n",
              "          const docLinkHtml = 'Like what you see? Visit the ' +\n",
              "            '<a target=\"_blank\" href=https://colab.research.google.com/notebooks/data_table.ipynb>data table notebook</a>'\n",
              "            + ' to learn more about interactive tables.';\n",
              "          element.innerHTML = '';\n",
              "          dataTable['output_type'] = 'display_data';\n",
              "          await google.colab.output.renderOutput(dataTable, element);\n",
              "          const docLink = document.createElement('div');\n",
              "          docLink.innerHTML = docLinkHtml;\n",
              "          element.appendChild(docLink);\n",
              "        }\n",
              "      </script>\n",
              "    </div>\n",
              "  </div>\n"
            ]
          },
          "metadata": {},
          "execution_count": 47
        }
      ]
    },
    {
      "cell_type": "code",
      "source": [
        "N = 4500"
      ],
      "metadata": {
        "id": "zrzEiWHK35qu"
      },
      "execution_count": null,
      "outputs": []
    },
    {
      "cell_type": "code",
      "source": [
        "rows_to_remove = df_news_2017[df_news_2017['topic'] == 'россия'].sample(n=N, random_state=42).index"
      ],
      "metadata": {
        "id": "akzmanhZ4Ca4"
      },
      "execution_count": null,
      "outputs": []
    },
    {
      "cell_type": "code",
      "source": [
        "len(rows_to_remove)"
      ],
      "metadata": {
        "colab": {
          "base_uri": "https://localhost:8080/"
        },
        "id": "ZR8cYBuZ4NSh",
        "outputId": "6aec4e88-7a34-4f27-feac-0680d5fd8547"
      },
      "execution_count": null,
      "outputs": [
        {
          "output_type": "execute_result",
          "data": {
            "text/plain": [
              "4500"
            ]
          },
          "metadata": {},
          "execution_count": 27
        }
      ]
    },
    {
      "cell_type": "code",
      "source": [
        "df_news_2017 = df_news_2017.drop(rows_to_remove)"
      ],
      "metadata": {
        "id": "v3pxa0Vi4XTH"
      },
      "execution_count": null,
      "outputs": []
    },
    {
      "cell_type": "code",
      "source": [
        "df_news_2017"
      ],
      "metadata": {
        "colab": {
          "base_uri": "https://localhost:8080/",
          "height": 424
        },
        "id": "E8gza6ET4bKf",
        "outputId": "4c01d4d6-e594-42ee-8fef-42b265351912"
      },
      "execution_count": null,
      "outputs": [
        {
          "output_type": "execute_result",
          "data": {
            "text/plain": [
              "                   topic                                               data\n",
              "0                  спорт  Возбуждено дело по факту избиения Расула Мирза...\n",
              "1      силовые структуры  Двое силовиков пострадали в спецоперации в Даг...\n",
              "4                  спорт  Опубликовано видео лучших моментов матча Росси...\n",
              "5                    мир  Эрдоган назвал цель стамбульского теракта Цель...\n",
              "6                 россия  В МЧС констатировали отсутствие серьезных прои...\n",
              "...                  ...                                                ...\n",
              "28634             россия  На Сахалине пошумели и спалили дотла 25-метров...\n",
              "28635              спорт  Боксер Дрозд завершил карьеру Российский боксе...\n",
              "28636              спорт  Нападающий «Манчестер Сити» заплакал из-за пол...\n",
              "28641              спорт  Опубликован трейлер чемпионата мира по футболу...\n",
              "28642  силовые структуры  СК спустя три дня после Путина признал взрыв в...\n",
              "\n",
              "[20443 rows x 2 columns]"
            ],
            "text/html": [
              "\n",
              "\n",
              "  <div id=\"df-297f00b7-eb46-4d61-8bf2-4418a3aba5e1\">\n",
              "    <div class=\"colab-df-container\">\n",
              "      <div>\n",
              "<style scoped>\n",
              "    .dataframe tbody tr th:only-of-type {\n",
              "        vertical-align: middle;\n",
              "    }\n",
              "\n",
              "    .dataframe tbody tr th {\n",
              "        vertical-align: top;\n",
              "    }\n",
              "\n",
              "    .dataframe thead th {\n",
              "        text-align: right;\n",
              "    }\n",
              "</style>\n",
              "<table border=\"1\" class=\"dataframe\">\n",
              "  <thead>\n",
              "    <tr style=\"text-align: right;\">\n",
              "      <th></th>\n",
              "      <th>topic</th>\n",
              "      <th>data</th>\n",
              "    </tr>\n",
              "  </thead>\n",
              "  <tbody>\n",
              "    <tr>\n",
              "      <th>0</th>\n",
              "      <td>спорт</td>\n",
              "      <td>Возбуждено дело по факту избиения Расула Мирза...</td>\n",
              "    </tr>\n",
              "    <tr>\n",
              "      <th>1</th>\n",
              "      <td>силовые структуры</td>\n",
              "      <td>Двое силовиков пострадали в спецоперации в Даг...</td>\n",
              "    </tr>\n",
              "    <tr>\n",
              "      <th>4</th>\n",
              "      <td>спорт</td>\n",
              "      <td>Опубликовано видео лучших моментов матча Росси...</td>\n",
              "    </tr>\n",
              "    <tr>\n",
              "      <th>5</th>\n",
              "      <td>мир</td>\n",
              "      <td>Эрдоган назвал цель стамбульского теракта Цель...</td>\n",
              "    </tr>\n",
              "    <tr>\n",
              "      <th>6</th>\n",
              "      <td>россия</td>\n",
              "      <td>В МЧС констатировали отсутствие серьезных прои...</td>\n",
              "    </tr>\n",
              "    <tr>\n",
              "      <th>...</th>\n",
              "      <td>...</td>\n",
              "      <td>...</td>\n",
              "    </tr>\n",
              "    <tr>\n",
              "      <th>28634</th>\n",
              "      <td>россия</td>\n",
              "      <td>На Сахалине пошумели и спалили дотла 25-метров...</td>\n",
              "    </tr>\n",
              "    <tr>\n",
              "      <th>28635</th>\n",
              "      <td>спорт</td>\n",
              "      <td>Боксер Дрозд завершил карьеру Российский боксе...</td>\n",
              "    </tr>\n",
              "    <tr>\n",
              "      <th>28636</th>\n",
              "      <td>спорт</td>\n",
              "      <td>Нападающий «Манчестер Сити» заплакал из-за пол...</td>\n",
              "    </tr>\n",
              "    <tr>\n",
              "      <th>28641</th>\n",
              "      <td>спорт</td>\n",
              "      <td>Опубликован трейлер чемпионата мира по футболу...</td>\n",
              "    </tr>\n",
              "    <tr>\n",
              "      <th>28642</th>\n",
              "      <td>силовые структуры</td>\n",
              "      <td>СК спустя три дня после Путина признал взрыв в...</td>\n",
              "    </tr>\n",
              "  </tbody>\n",
              "</table>\n",
              "<p>20443 rows × 2 columns</p>\n",
              "</div>\n",
              "      <button class=\"colab-df-convert\" onclick=\"convertToInteractive('df-297f00b7-eb46-4d61-8bf2-4418a3aba5e1')\"\n",
              "              title=\"Convert this dataframe to an interactive table.\"\n",
              "              style=\"display:none;\">\n",
              "\n",
              "  <svg xmlns=\"http://www.w3.org/2000/svg\" height=\"24px\"viewBox=\"0 0 24 24\"\n",
              "       width=\"24px\">\n",
              "    <path d=\"M0 0h24v24H0V0z\" fill=\"none\"/>\n",
              "    <path d=\"M18.56 5.44l.94 2.06.94-2.06 2.06-.94-2.06-.94-.94-2.06-.94 2.06-2.06.94zm-11 1L8.5 8.5l.94-2.06 2.06-.94-2.06-.94L8.5 2.5l-.94 2.06-2.06.94zm10 10l.94 2.06.94-2.06 2.06-.94-2.06-.94-.94-2.06-.94 2.06-2.06.94z\"/><path d=\"M17.41 7.96l-1.37-1.37c-.4-.4-.92-.59-1.43-.59-.52 0-1.04.2-1.43.59L10.3 9.45l-7.72 7.72c-.78.78-.78 2.05 0 2.83L4 21.41c.39.39.9.59 1.41.59.51 0 1.02-.2 1.41-.59l7.78-7.78 2.81-2.81c.8-.78.8-2.07 0-2.86zM5.41 20L4 18.59l7.72-7.72 1.47 1.35L5.41 20z\"/>\n",
              "  </svg>\n",
              "      </button>\n",
              "\n",
              "\n",
              "\n",
              "    <div id=\"df-35a5ac40-f5fb-4ee3-ba2c-465ca9b497da\">\n",
              "      <button class=\"colab-df-quickchart\" onclick=\"quickchart('df-35a5ac40-f5fb-4ee3-ba2c-465ca9b497da')\"\n",
              "              title=\"Suggest charts.\"\n",
              "              style=\"display:none;\">\n",
              "\n",
              "<svg xmlns=\"http://www.w3.org/2000/svg\" height=\"24px\"viewBox=\"0 0 24 24\"\n",
              "     width=\"24px\">\n",
              "    <g>\n",
              "        <path d=\"M19 3H5c-1.1 0-2 .9-2 2v14c0 1.1.9 2 2 2h14c1.1 0 2-.9 2-2V5c0-1.1-.9-2-2-2zM9 17H7v-7h2v7zm4 0h-2V7h2v10zm4 0h-2v-4h2v4z\"/>\n",
              "    </g>\n",
              "</svg>\n",
              "      </button>\n",
              "    </div>\n",
              "\n",
              "<style>\n",
              "  .colab-df-quickchart {\n",
              "    background-color: #E8F0FE;\n",
              "    border: none;\n",
              "    border-radius: 50%;\n",
              "    cursor: pointer;\n",
              "    display: none;\n",
              "    fill: #1967D2;\n",
              "    height: 32px;\n",
              "    padding: 0 0 0 0;\n",
              "    width: 32px;\n",
              "  }\n",
              "\n",
              "  .colab-df-quickchart:hover {\n",
              "    background-color: #E2EBFA;\n",
              "    box-shadow: 0px 1px 2px rgba(60, 64, 67, 0.3), 0px 1px 3px 1px rgba(60, 64, 67, 0.15);\n",
              "    fill: #174EA6;\n",
              "  }\n",
              "\n",
              "  [theme=dark] .colab-df-quickchart {\n",
              "    background-color: #3B4455;\n",
              "    fill: #D2E3FC;\n",
              "  }\n",
              "\n",
              "  [theme=dark] .colab-df-quickchart:hover {\n",
              "    background-color: #434B5C;\n",
              "    box-shadow: 0px 1px 3px 1px rgba(0, 0, 0, 0.15);\n",
              "    filter: drop-shadow(0px 1px 2px rgba(0, 0, 0, 0.3));\n",
              "    fill: #FFFFFF;\n",
              "  }\n",
              "</style>\n",
              "\n",
              "    <script>\n",
              "      async function quickchart(key) {\n",
              "        const containerElement = document.querySelector('#' + key);\n",
              "        const charts = await google.colab.kernel.invokeFunction(\n",
              "            'suggestCharts', [key], {});\n",
              "      }\n",
              "    </script>\n",
              "\n",
              "      <script>\n",
              "\n",
              "function displayQuickchartButton(domScope) {\n",
              "  let quickchartButtonEl =\n",
              "    domScope.querySelector('#df-35a5ac40-f5fb-4ee3-ba2c-465ca9b497da button.colab-df-quickchart');\n",
              "  quickchartButtonEl.style.display =\n",
              "    google.colab.kernel.accessAllowed ? 'block' : 'none';\n",
              "}\n",
              "\n",
              "        displayQuickchartButton(document);\n",
              "      </script>\n",
              "      <style>\n",
              "    .colab-df-container {\n",
              "      display:flex;\n",
              "      flex-wrap:wrap;\n",
              "      gap: 12px;\n",
              "    }\n",
              "\n",
              "    .colab-df-convert {\n",
              "      background-color: #E8F0FE;\n",
              "      border: none;\n",
              "      border-radius: 50%;\n",
              "      cursor: pointer;\n",
              "      display: none;\n",
              "      fill: #1967D2;\n",
              "      height: 32px;\n",
              "      padding: 0 0 0 0;\n",
              "      width: 32px;\n",
              "    }\n",
              "\n",
              "    .colab-df-convert:hover {\n",
              "      background-color: #E2EBFA;\n",
              "      box-shadow: 0px 1px 2px rgba(60, 64, 67, 0.3), 0px 1px 3px 1px rgba(60, 64, 67, 0.15);\n",
              "      fill: #174EA6;\n",
              "    }\n",
              "\n",
              "    [theme=dark] .colab-df-convert {\n",
              "      background-color: #3B4455;\n",
              "      fill: #D2E3FC;\n",
              "    }\n",
              "\n",
              "    [theme=dark] .colab-df-convert:hover {\n",
              "      background-color: #434B5C;\n",
              "      box-shadow: 0px 1px 3px 1px rgba(0, 0, 0, 0.15);\n",
              "      filter: drop-shadow(0px 1px 2px rgba(0, 0, 0, 0.3));\n",
              "      fill: #FFFFFF;\n",
              "    }\n",
              "  </style>\n",
              "\n",
              "      <script>\n",
              "        const buttonEl =\n",
              "          document.querySelector('#df-297f00b7-eb46-4d61-8bf2-4418a3aba5e1 button.colab-df-convert');\n",
              "        buttonEl.style.display =\n",
              "          google.colab.kernel.accessAllowed ? 'block' : 'none';\n",
              "\n",
              "        async function convertToInteractive(key) {\n",
              "          const element = document.querySelector('#df-297f00b7-eb46-4d61-8bf2-4418a3aba5e1');\n",
              "          const dataTable =\n",
              "            await google.colab.kernel.invokeFunction('convertToInteractive',\n",
              "                                                     [key], {});\n",
              "          if (!dataTable) return;\n",
              "\n",
              "          const docLinkHtml = 'Like what you see? Visit the ' +\n",
              "            '<a target=\"_blank\" href=https://colab.research.google.com/notebooks/data_table.ipynb>data table notebook</a>'\n",
              "            + ' to learn more about interactive tables.';\n",
              "          element.innerHTML = '';\n",
              "          dataTable['output_type'] = 'display_data';\n",
              "          await google.colab.output.renderOutput(dataTable, element);\n",
              "          const docLink = document.createElement('div');\n",
              "          docLink.innerHTML = docLinkHtml;\n",
              "          element.appendChild(docLink);\n",
              "        }\n",
              "      </script>\n",
              "    </div>\n",
              "  </div>\n"
            ]
          },
          "metadata": {},
          "execution_count": 37
        }
      ]
    },
    {
      "cell_type": "code",
      "source": [
        "df_news_2017.topic.value_counts()"
      ],
      "metadata": {
        "colab": {
          "base_uri": "https://localhost:8080/"
        },
        "id": "PN5QPTfz4efS",
        "outputId": "9a831056-1c31-4460-a333-889b8c1bd4fd"
      },
      "execution_count": null,
      "outputs": [
        {
          "output_type": "execute_result",
          "data": {
            "text/plain": [
              "мир                  5032\n",
              "россия               5030\n",
              "спорт                4921\n",
              "силовые структуры    4852\n",
              "Name: topic, dtype: int64"
            ]
          },
          "metadata": {},
          "execution_count": 42
        }
      ]
    },
    {
      "cell_type": "code",
      "source": [
        "N = 3700"
      ],
      "metadata": {
        "id": "pk8mm56A4wBh"
      },
      "execution_count": null,
      "outputs": []
    },
    {
      "cell_type": "code",
      "source": [
        "rows_to_remove = df_news_2017[df_news_2017['topic'] == 'мир'].sample(n=N, random_state=42).index"
      ],
      "metadata": {
        "id": "hEinwkrD43JX"
      },
      "execution_count": null,
      "outputs": []
    },
    {
      "cell_type": "code",
      "source": [
        "df_news_2017 = df_news_2017.drop(rows_to_remove)"
      ],
      "metadata": {
        "id": "Bgk4zeFG49qS"
      },
      "execution_count": null,
      "outputs": []
    },
    {
      "cell_type": "code",
      "source": [
        "N=600"
      ],
      "metadata": {
        "id": "bMD6bDCT5DnI"
      },
      "execution_count": null,
      "outputs": []
    },
    {
      "cell_type": "code",
      "source": [
        "rows_to_remove = df_news_2017[df_news_2017['topic'] == 'спорт'].sample(n=N, random_state=42).index"
      ],
      "metadata": {
        "id": "2TE63Hoi5HQ2"
      },
      "execution_count": null,
      "outputs": []
    },
    {
      "cell_type": "code",
      "source": [
        "df_news_2017 = df_news_2017.drop(rows_to_remove)"
      ],
      "metadata": {
        "id": "sjolwI0Y5JTC"
      },
      "execution_count": null,
      "outputs": []
    },
    {
      "cell_type": "code",
      "source": [
        "import re\n",
        "import string"
      ],
      "metadata": {
        "id": "RBjPMIbEwbDs"
      },
      "execution_count": null,
      "outputs": []
    },
    {
      "cell_type": "code",
      "source": [
        "def clean_text(text):\n",
        "    text = text.lower().replace(\"ё\", \"е\")\n",
        "    text = re.sub('\\[.*?\\]', '', text)\n",
        "    text = re.sub(\"\\\\W\",\" \",text)\n",
        "    text = re.sub('https?://\\S+|www\\.\\S+', '', text)\n",
        "    text = re.sub('<.*?>+', '', text)\n",
        "    text = re.sub('[%s]' % re.escape(string.punctuation), '', text)\n",
        "    text = re.sub('\\n', '', text)\n",
        "    text = re.sub('\\w*\\d\\w*', '', text)\n",
        "    return text"
      ],
      "metadata": {
        "id": "-SIMFeLfwhb1"
      },
      "execution_count": null,
      "outputs": []
    },
    {
      "cell_type": "code",
      "source": [
        "df_news_2017.data.iloc[0]"
      ],
      "metadata": {
        "colab": {
          "base_uri": "https://localhost:8080/",
          "height": 87
        },
        "id": "lHjqe_klwjYy",
        "outputId": "f892b4fe-bc1c-4463-c0ee-272a7463bba2"
      },
      "execution_count": null,
      "outputs": [
        {
          "output_type": "execute_result",
          "data": {
            "text/plain": [
              "'Возбуждено дело по\\xa0факту избиения Расула Мирзаева Следственный комитет России возбудил уголовное дело по факту нападения на бойца смешанного стиля (ММА) Расула Мирзаева в Москве. Об этом в воскресенье, 1 января, сообщает ТАСС со ссылкой на слова представителя московского главка СКР. «Уголовное дело возбуждено по части 2 статьи 112 УК РФ (\"Умышленное причинение средней тяжести вреда здоровью\") и части 2 статьи 139 УК РФ (\"Нарушение неприкосновенности жилища\")», — заявили в управлении. В ночь на 31 декабря 30-летний Мирзаев был избит и ранен из травматического пистолета на улице Восточная. Нападавшие скрылись с места преступления. Бойца госпитализировали и прооперировали, врачи оценили его состояние как нормальное, жизни спортсмена ничего не угрожает. 16 ноября Мирзаев потерпел первое поражение в карьере от американца грузинского происхождения Левана Макашвили. В его активе 17 побед и одно поражение. Имя Расула Мирзаева стало широко обсуждаться в СМИ в августе 2011 года, когда во время конфликта у московского ночного клуба «Гараж» он ударил студента Ивана Агафонова, которого впоследствии госпитализировали. Спустя несколько дней пострадавший скончался, не приходя в сознание. В ноябре 2012 года боец был признан виновным в причинении смерти по неосторожности. Его освободили в зале суда, поскольку на момент вынесения приговора он полностью отбыл наказание в следственном изоляторе.'"
            ],
            "application/vnd.google.colaboratory.intrinsic+json": {
              "type": "string"
            }
          },
          "metadata": {},
          "execution_count": 189
        }
      ]
    },
    {
      "cell_type": "code",
      "source": [
        "df_news_2017['data_clean'] = df_news_2017['data'].apply(clean_text)"
      ],
      "metadata": {
        "id": "34owXbwhxH6Y"
      },
      "execution_count": null,
      "outputs": []
    },
    {
      "cell_type": "code",
      "source": [
        "df_news_2017['data_clean'].iloc[0]"
      ],
      "metadata": {
        "colab": {
          "base_uri": "https://localhost:8080/",
          "height": 87
        },
        "id": "Eb40ZO0bxXJO",
        "outputId": "63de5cd8-f301-4ee1-9b8d-8d70c75c4620"
      },
      "execution_count": null,
      "outputs": [
        {
          "output_type": "execute_result",
          "data": {
            "text/plain": [
              "'возбуждено дело по факту избиения расула мирзаева следственный комитет россии возбудил уголовное дело по факту нападения на бойца смешанного стиля  мма  расула мирзаева в москве  об этом в воскресенье   января  сообщает тасс со ссылкой на слова представителя московского главка скр   уголовное дело возбуждено по части  статьи  ук рф   умышленное причинение средней тяжести вреда здоровью   и части  статьи  ук рф   нарушение неприкосновенности жилища       заявили в управлении  в ночь на  декабря  летний мирзаев был избит и ранен из травматического пистолета на улице восточная  нападавшие скрылись с места преступления  бойца госпитализировали и прооперировали  врачи оценили его состояние как нормальное  жизни спортсмена ничего не угрожает   ноября мирзаев потерпел первое поражение в карьере от американца грузинского происхождения левана макашвили  в его активе  побед и одно поражение  имя расула мирзаева стало широко обсуждаться в сми в августе  года  когда во время конфликта у московского ночного клуба  гараж  он ударил студента ивана агафонова  которого впоследствии госпитализировали  спустя несколько дней пострадавший скончался  не приходя в сознание  в ноябре  года боец был признан виновным в причинении смерти по неосторожности  его освободили в зале суда  поскольку на момент вынесения приговора он полностью отбыл наказание в следственном изоляторе '"
            ],
            "application/vnd.google.colaboratory.intrinsic+json": {
              "type": "string"
            }
          },
          "metadata": {},
          "execution_count": 192
        }
      ]
    },
    {
      "cell_type": "code",
      "source": [
        "import nltk\n",
        "nltk.download('stopwords')\n",
        "from nltk.corpus import stopwords\n",
        "stopwords.words(\"russian\")"
      ],
      "metadata": {
        "colab": {
          "base_uri": "https://localhost:8080/"
        },
        "id": "UY1Z2madx7oh",
        "outputId": "43a9790f-153e-4e0a-fbe4-e428401f3d7c"
      },
      "execution_count": null,
      "outputs": [
        {
          "output_type": "stream",
          "name": "stderr",
          "text": [
            "[nltk_data] Downloading package stopwords to /root/nltk_data...\n",
            "[nltk_data]   Package stopwords is already up-to-date!\n"
          ]
        },
        {
          "output_type": "execute_result",
          "data": {
            "text/plain": [
              "['и',\n",
              " 'в',\n",
              " 'во',\n",
              " 'не',\n",
              " 'что',\n",
              " 'он',\n",
              " 'на',\n",
              " 'я',\n",
              " 'с',\n",
              " 'со',\n",
              " 'как',\n",
              " 'а',\n",
              " 'то',\n",
              " 'все',\n",
              " 'она',\n",
              " 'так',\n",
              " 'его',\n",
              " 'но',\n",
              " 'да',\n",
              " 'ты',\n",
              " 'к',\n",
              " 'у',\n",
              " 'же',\n",
              " 'вы',\n",
              " 'за',\n",
              " 'бы',\n",
              " 'по',\n",
              " 'только',\n",
              " 'ее',\n",
              " 'мне',\n",
              " 'было',\n",
              " 'вот',\n",
              " 'от',\n",
              " 'меня',\n",
              " 'еще',\n",
              " 'нет',\n",
              " 'о',\n",
              " 'из',\n",
              " 'ему',\n",
              " 'теперь',\n",
              " 'когда',\n",
              " 'даже',\n",
              " 'ну',\n",
              " 'вдруг',\n",
              " 'ли',\n",
              " 'если',\n",
              " 'уже',\n",
              " 'или',\n",
              " 'ни',\n",
              " 'быть',\n",
              " 'был',\n",
              " 'него',\n",
              " 'до',\n",
              " 'вас',\n",
              " 'нибудь',\n",
              " 'опять',\n",
              " 'уж',\n",
              " 'вам',\n",
              " 'ведь',\n",
              " 'там',\n",
              " 'потом',\n",
              " 'себя',\n",
              " 'ничего',\n",
              " 'ей',\n",
              " 'может',\n",
              " 'они',\n",
              " 'тут',\n",
              " 'где',\n",
              " 'есть',\n",
              " 'надо',\n",
              " 'ней',\n",
              " 'для',\n",
              " 'мы',\n",
              " 'тебя',\n",
              " 'их',\n",
              " 'чем',\n",
              " 'была',\n",
              " 'сам',\n",
              " 'чтоб',\n",
              " 'без',\n",
              " 'будто',\n",
              " 'чего',\n",
              " 'раз',\n",
              " 'тоже',\n",
              " 'себе',\n",
              " 'под',\n",
              " 'будет',\n",
              " 'ж',\n",
              " 'тогда',\n",
              " 'кто',\n",
              " 'этот',\n",
              " 'того',\n",
              " 'потому',\n",
              " 'этого',\n",
              " 'какой',\n",
              " 'совсем',\n",
              " 'ним',\n",
              " 'здесь',\n",
              " 'этом',\n",
              " 'один',\n",
              " 'почти',\n",
              " 'мой',\n",
              " 'тем',\n",
              " 'чтобы',\n",
              " 'нее',\n",
              " 'сейчас',\n",
              " 'были',\n",
              " 'куда',\n",
              " 'зачем',\n",
              " 'всех',\n",
              " 'никогда',\n",
              " 'можно',\n",
              " 'при',\n",
              " 'наконец',\n",
              " 'два',\n",
              " 'об',\n",
              " 'другой',\n",
              " 'хоть',\n",
              " 'после',\n",
              " 'над',\n",
              " 'больше',\n",
              " 'тот',\n",
              " 'через',\n",
              " 'эти',\n",
              " 'нас',\n",
              " 'про',\n",
              " 'всего',\n",
              " 'них',\n",
              " 'какая',\n",
              " 'много',\n",
              " 'разве',\n",
              " 'три',\n",
              " 'эту',\n",
              " 'моя',\n",
              " 'впрочем',\n",
              " 'хорошо',\n",
              " 'свою',\n",
              " 'этой',\n",
              " 'перед',\n",
              " 'иногда',\n",
              " 'лучше',\n",
              " 'чуть',\n",
              " 'том',\n",
              " 'нельзя',\n",
              " 'такой',\n",
              " 'им',\n",
              " 'более',\n",
              " 'всегда',\n",
              " 'конечно',\n",
              " 'всю',\n",
              " 'между']"
            ]
          },
          "metadata": {},
          "execution_count": 48
        }
      ]
    },
    {
      "cell_type": "code",
      "source": [
        "nltk.download('punkt')"
      ],
      "metadata": {
        "colab": {
          "base_uri": "https://localhost:8080/"
        },
        "id": "RXecV-STysWQ",
        "outputId": "a87ab20b-b2a9-4a76-a36a-593ac455d917"
      },
      "execution_count": null,
      "outputs": [
        {
          "output_type": "stream",
          "name": "stderr",
          "text": [
            "[nltk_data] Downloading package punkt to /root/nltk_data...\n",
            "[nltk_data]   Package punkt is already up-to-date!\n"
          ]
        },
        {
          "output_type": "execute_result",
          "data": {
            "text/plain": [
              "True"
            ]
          },
          "metadata": {},
          "execution_count": 49
        }
      ]
    },
    {
      "cell_type": "code",
      "source": [
        "stopwords = stopwords.words(\"russian\")"
      ],
      "metadata": {
        "id": "HpHHE4Bayune"
      },
      "execution_count": null,
      "outputs": []
    },
    {
      "cell_type": "code",
      "source": [
        "from nltk.tokenize import sent_tokenize, word_tokenize"
      ],
      "metadata": {
        "id": "tS6d29kky7aW"
      },
      "execution_count": null,
      "outputs": []
    },
    {
      "cell_type": "code",
      "source": [
        "def tokenize(text):\n",
        "    text_clean = []\n",
        "    text_tokenized = word_tokenize(text, language=\"russian\")\n",
        "    for word in text_tokenized:\n",
        "        if len(word) > 1 and word not in stopwords:\n",
        "            text_clean.append(word)\n",
        "    return text_clean"
      ],
      "metadata": {
        "id": "_arn1jTuzEN9"
      },
      "execution_count": null,
      "outputs": []
    },
    {
      "cell_type": "code",
      "source": [
        "df_news_2017['tokenized'] = df_news_2017.data_clean.apply(tokenize)"
      ],
      "metadata": {
        "id": "aO5cgXv6zJPM"
      },
      "execution_count": null,
      "outputs": []
    },
    {
      "cell_type": "code",
      "source": [
        "df_news_2017"
      ],
      "metadata": {
        "colab": {
          "base_uri": "https://localhost:8080/",
          "height": 424
        },
        "id": "hb224O-Izdns",
        "outputId": "0583b5ee-2577-42b6-d503-fabee612eec8"
      },
      "execution_count": null,
      "outputs": [
        {
          "output_type": "execute_result",
          "data": {
            "text/plain": [
              "                   topic                                               data  \\\n",
              "0                  спорт  Возбуждено дело по факту избиения Расула Мирза...   \n",
              "1      силовые структуры  Двое силовиков пострадали в спецоперации в Даг...   \n",
              "2                  спорт  Опубликовано видео лучших моментов матча Росси...   \n",
              "3                    мир  Эрдоган назвал цель стамбульского теракта Цель...   \n",
              "4                 россия  В МЧС констатировали отсутствие серьезных прои...   \n",
              "...                  ...                                                ...   \n",
              "19838             россия  На Сахалине пошумели и спалили дотла 25-метров...   \n",
              "19839              спорт  Боксер Дрозд завершил карьеру Российский боксе...   \n",
              "19840              спорт  Нападающий «Манчестер Сити» заплакал из-за пол...   \n",
              "19841              спорт  Опубликован трейлер чемпионата мира по футболу...   \n",
              "19842  силовые структуры  СК спустя три дня после Путина признал взрыв в...   \n",
              "\n",
              "                                              data_clean  \\\n",
              "0      возбуждено дело по факту избиения расула мирза...   \n",
              "1      двое силовиков пострадали в спецоперации в даг...   \n",
              "2      опубликовано видео лучших моментов матча росси...   \n",
              "3      эрдоган назвал цель стамбульского теракта цель...   \n",
              "4      в мчс констатировали отсутствие серьезных прои...   \n",
              "...                                                  ...   \n",
              "19838  на сахалине пошумели и спалили дотла  метровую...   \n",
              "19839  боксер дрозд завершил карьеру российский боксе...   \n",
              "19840  нападающий  манчестер сити  заплакал из за пол...   \n",
              "19841  опубликован трейлер чемпионата мира по футболу...   \n",
              "19842  ск спустя три дня после путина признал взрыв в...   \n",
              "\n",
              "                                               tokenized  \n",
              "0      [возбуждено, дело, факту, избиения, расула, ми...  \n",
              "1      [двое, силовиков, пострадали, спецоперации, да...  \n",
              "2      [опубликовано, видео, лучших, моментов, матча,...  \n",
              "3      [эрдоган, назвал, цель, стамбульского, теракта...  \n",
              "4      [мчс, констатировали, отсутствие, серьезных, п...  \n",
              "...                                                  ...  \n",
              "19838  [сахалине, пошумели, спалили, дотла, метровую,...  \n",
              "19839  [боксер, дрозд, завершил, карьеру, российский,...  \n",
              "19840  [нападающий, манчестер, сити, заплакал, получе...  \n",
              "19841  [опубликован, трейлер, чемпионата, мира, футбо...  \n",
              "19842  [ск, спустя, дня, путина, признал, взрыв, пете...  \n",
              "\n",
              "[19843 rows x 4 columns]"
            ],
            "text/html": [
              "\n",
              "\n",
              "  <div id=\"df-7a4fa051-967d-4084-b9d7-0159fa190dfe\">\n",
              "    <div class=\"colab-df-container\">\n",
              "      <div>\n",
              "<style scoped>\n",
              "    .dataframe tbody tr th:only-of-type {\n",
              "        vertical-align: middle;\n",
              "    }\n",
              "\n",
              "    .dataframe tbody tr th {\n",
              "        vertical-align: top;\n",
              "    }\n",
              "\n",
              "    .dataframe thead th {\n",
              "        text-align: right;\n",
              "    }\n",
              "</style>\n",
              "<table border=\"1\" class=\"dataframe\">\n",
              "  <thead>\n",
              "    <tr style=\"text-align: right;\">\n",
              "      <th></th>\n",
              "      <th>topic</th>\n",
              "      <th>data</th>\n",
              "      <th>data_clean</th>\n",
              "      <th>tokenized</th>\n",
              "    </tr>\n",
              "  </thead>\n",
              "  <tbody>\n",
              "    <tr>\n",
              "      <th>0</th>\n",
              "      <td>спорт</td>\n",
              "      <td>Возбуждено дело по факту избиения Расула Мирза...</td>\n",
              "      <td>возбуждено дело по факту избиения расула мирза...</td>\n",
              "      <td>[возбуждено, дело, факту, избиения, расула, ми...</td>\n",
              "    </tr>\n",
              "    <tr>\n",
              "      <th>1</th>\n",
              "      <td>силовые структуры</td>\n",
              "      <td>Двое силовиков пострадали в спецоперации в Даг...</td>\n",
              "      <td>двое силовиков пострадали в спецоперации в даг...</td>\n",
              "      <td>[двое, силовиков, пострадали, спецоперации, да...</td>\n",
              "    </tr>\n",
              "    <tr>\n",
              "      <th>2</th>\n",
              "      <td>спорт</td>\n",
              "      <td>Опубликовано видео лучших моментов матча Росси...</td>\n",
              "      <td>опубликовано видео лучших моментов матча росси...</td>\n",
              "      <td>[опубликовано, видео, лучших, моментов, матча,...</td>\n",
              "    </tr>\n",
              "    <tr>\n",
              "      <th>3</th>\n",
              "      <td>мир</td>\n",
              "      <td>Эрдоган назвал цель стамбульского теракта Цель...</td>\n",
              "      <td>эрдоган назвал цель стамбульского теракта цель...</td>\n",
              "      <td>[эрдоган, назвал, цель, стамбульского, теракта...</td>\n",
              "    </tr>\n",
              "    <tr>\n",
              "      <th>4</th>\n",
              "      <td>россия</td>\n",
              "      <td>В МЧС констатировали отсутствие серьезных прои...</td>\n",
              "      <td>в мчс констатировали отсутствие серьезных прои...</td>\n",
              "      <td>[мчс, констатировали, отсутствие, серьезных, п...</td>\n",
              "    </tr>\n",
              "    <tr>\n",
              "      <th>...</th>\n",
              "      <td>...</td>\n",
              "      <td>...</td>\n",
              "      <td>...</td>\n",
              "      <td>...</td>\n",
              "    </tr>\n",
              "    <tr>\n",
              "      <th>19838</th>\n",
              "      <td>россия</td>\n",
              "      <td>На Сахалине пошумели и спалили дотла 25-метров...</td>\n",
              "      <td>на сахалине пошумели и спалили дотла  метровую...</td>\n",
              "      <td>[сахалине, пошумели, спалили, дотла, метровую,...</td>\n",
              "    </tr>\n",
              "    <tr>\n",
              "      <th>19839</th>\n",
              "      <td>спорт</td>\n",
              "      <td>Боксер Дрозд завершил карьеру Российский боксе...</td>\n",
              "      <td>боксер дрозд завершил карьеру российский боксе...</td>\n",
              "      <td>[боксер, дрозд, завершил, карьеру, российский,...</td>\n",
              "    </tr>\n",
              "    <tr>\n",
              "      <th>19840</th>\n",
              "      <td>спорт</td>\n",
              "      <td>Нападающий «Манчестер Сити» заплакал из-за пол...</td>\n",
              "      <td>нападающий  манчестер сити  заплакал из за пол...</td>\n",
              "      <td>[нападающий, манчестер, сити, заплакал, получе...</td>\n",
              "    </tr>\n",
              "    <tr>\n",
              "      <th>19841</th>\n",
              "      <td>спорт</td>\n",
              "      <td>Опубликован трейлер чемпионата мира по футболу...</td>\n",
              "      <td>опубликован трейлер чемпионата мира по футболу...</td>\n",
              "      <td>[опубликован, трейлер, чемпионата, мира, футбо...</td>\n",
              "    </tr>\n",
              "    <tr>\n",
              "      <th>19842</th>\n",
              "      <td>силовые структуры</td>\n",
              "      <td>СК спустя три дня после Путина признал взрыв в...</td>\n",
              "      <td>ск спустя три дня после путина признал взрыв в...</td>\n",
              "      <td>[ск, спустя, дня, путина, признал, взрыв, пете...</td>\n",
              "    </tr>\n",
              "  </tbody>\n",
              "</table>\n",
              "<p>19843 rows × 4 columns</p>\n",
              "</div>\n",
              "      <button class=\"colab-df-convert\" onclick=\"convertToInteractive('df-7a4fa051-967d-4084-b9d7-0159fa190dfe')\"\n",
              "              title=\"Convert this dataframe to an interactive table.\"\n",
              "              style=\"display:none;\">\n",
              "\n",
              "  <svg xmlns=\"http://www.w3.org/2000/svg\" height=\"24px\"viewBox=\"0 0 24 24\"\n",
              "       width=\"24px\">\n",
              "    <path d=\"M0 0h24v24H0V0z\" fill=\"none\"/>\n",
              "    <path d=\"M18.56 5.44l.94 2.06.94-2.06 2.06-.94-2.06-.94-.94-2.06-.94 2.06-2.06.94zm-11 1L8.5 8.5l.94-2.06 2.06-.94-2.06-.94L8.5 2.5l-.94 2.06-2.06.94zm10 10l.94 2.06.94-2.06 2.06-.94-2.06-.94-.94-2.06-.94 2.06-2.06.94z\"/><path d=\"M17.41 7.96l-1.37-1.37c-.4-.4-.92-.59-1.43-.59-.52 0-1.04.2-1.43.59L10.3 9.45l-7.72 7.72c-.78.78-.78 2.05 0 2.83L4 21.41c.39.39.9.59 1.41.59.51 0 1.02-.2 1.41-.59l7.78-7.78 2.81-2.81c.8-.78.8-2.07 0-2.86zM5.41 20L4 18.59l7.72-7.72 1.47 1.35L5.41 20z\"/>\n",
              "  </svg>\n",
              "      </button>\n",
              "\n",
              "\n",
              "\n",
              "    <div id=\"df-7f50a06f-94f0-4681-b490-a9ad9aa7ac59\">\n",
              "      <button class=\"colab-df-quickchart\" onclick=\"quickchart('df-7f50a06f-94f0-4681-b490-a9ad9aa7ac59')\"\n",
              "              title=\"Suggest charts.\"\n",
              "              style=\"display:none;\">\n",
              "\n",
              "<svg xmlns=\"http://www.w3.org/2000/svg\" height=\"24px\"viewBox=\"0 0 24 24\"\n",
              "     width=\"24px\">\n",
              "    <g>\n",
              "        <path d=\"M19 3H5c-1.1 0-2 .9-2 2v14c0 1.1.9 2 2 2h14c1.1 0 2-.9 2-2V5c0-1.1-.9-2-2-2zM9 17H7v-7h2v7zm4 0h-2V7h2v10zm4 0h-2v-4h2v4z\"/>\n",
              "    </g>\n",
              "</svg>\n",
              "      </button>\n",
              "    </div>\n",
              "\n",
              "<style>\n",
              "  .colab-df-quickchart {\n",
              "    background-color: #E8F0FE;\n",
              "    border: none;\n",
              "    border-radius: 50%;\n",
              "    cursor: pointer;\n",
              "    display: none;\n",
              "    fill: #1967D2;\n",
              "    height: 32px;\n",
              "    padding: 0 0 0 0;\n",
              "    width: 32px;\n",
              "  }\n",
              "\n",
              "  .colab-df-quickchart:hover {\n",
              "    background-color: #E2EBFA;\n",
              "    box-shadow: 0px 1px 2px rgba(60, 64, 67, 0.3), 0px 1px 3px 1px rgba(60, 64, 67, 0.15);\n",
              "    fill: #174EA6;\n",
              "  }\n",
              "\n",
              "  [theme=dark] .colab-df-quickchart {\n",
              "    background-color: #3B4455;\n",
              "    fill: #D2E3FC;\n",
              "  }\n",
              "\n",
              "  [theme=dark] .colab-df-quickchart:hover {\n",
              "    background-color: #434B5C;\n",
              "    box-shadow: 0px 1px 3px 1px rgba(0, 0, 0, 0.15);\n",
              "    filter: drop-shadow(0px 1px 2px rgba(0, 0, 0, 0.3));\n",
              "    fill: #FFFFFF;\n",
              "  }\n",
              "</style>\n",
              "\n",
              "    <script>\n",
              "      async function quickchart(key) {\n",
              "        const containerElement = document.querySelector('#' + key);\n",
              "        const charts = await google.colab.kernel.invokeFunction(\n",
              "            'suggestCharts', [key], {});\n",
              "      }\n",
              "    </script>\n",
              "\n",
              "      <script>\n",
              "\n",
              "function displayQuickchartButton(domScope) {\n",
              "  let quickchartButtonEl =\n",
              "    domScope.querySelector('#df-7f50a06f-94f0-4681-b490-a9ad9aa7ac59 button.colab-df-quickchart');\n",
              "  quickchartButtonEl.style.display =\n",
              "    google.colab.kernel.accessAllowed ? 'block' : 'none';\n",
              "}\n",
              "\n",
              "        displayQuickchartButton(document);\n",
              "      </script>\n",
              "      <style>\n",
              "    .colab-df-container {\n",
              "      display:flex;\n",
              "      flex-wrap:wrap;\n",
              "      gap: 12px;\n",
              "    }\n",
              "\n",
              "    .colab-df-convert {\n",
              "      background-color: #E8F0FE;\n",
              "      border: none;\n",
              "      border-radius: 50%;\n",
              "      cursor: pointer;\n",
              "      display: none;\n",
              "      fill: #1967D2;\n",
              "      height: 32px;\n",
              "      padding: 0 0 0 0;\n",
              "      width: 32px;\n",
              "    }\n",
              "\n",
              "    .colab-df-convert:hover {\n",
              "      background-color: #E2EBFA;\n",
              "      box-shadow: 0px 1px 2px rgba(60, 64, 67, 0.3), 0px 1px 3px 1px rgba(60, 64, 67, 0.15);\n",
              "      fill: #174EA6;\n",
              "    }\n",
              "\n",
              "    [theme=dark] .colab-df-convert {\n",
              "      background-color: #3B4455;\n",
              "      fill: #D2E3FC;\n",
              "    }\n",
              "\n",
              "    [theme=dark] .colab-df-convert:hover {\n",
              "      background-color: #434B5C;\n",
              "      box-shadow: 0px 1px 3px 1px rgba(0, 0, 0, 0.15);\n",
              "      filter: drop-shadow(0px 1px 2px rgba(0, 0, 0, 0.3));\n",
              "      fill: #FFFFFF;\n",
              "    }\n",
              "  </style>\n",
              "\n",
              "      <script>\n",
              "        const buttonEl =\n",
              "          document.querySelector('#df-7a4fa051-967d-4084-b9d7-0159fa190dfe button.colab-df-convert');\n",
              "        buttonEl.style.display =\n",
              "          google.colab.kernel.accessAllowed ? 'block' : 'none';\n",
              "\n",
              "        async function convertToInteractive(key) {\n",
              "          const element = document.querySelector('#df-7a4fa051-967d-4084-b9d7-0159fa190dfe');\n",
              "          const dataTable =\n",
              "            await google.colab.kernel.invokeFunction('convertToInteractive',\n",
              "                                                     [key], {});\n",
              "          if (!dataTable) return;\n",
              "\n",
              "          const docLinkHtml = 'Like what you see? Visit the ' +\n",
              "            '<a target=\"_blank\" href=https://colab.research.google.com/notebooks/data_table.ipynb>data table notebook</a>'\n",
              "            + ' to learn more about interactive tables.';\n",
              "          element.innerHTML = '';\n",
              "          dataTable['output_type'] = 'display_data';\n",
              "          await google.colab.output.renderOutput(dataTable, element);\n",
              "          const docLink = document.createElement('div');\n",
              "          docLink.innerHTML = docLinkHtml;\n",
              "          element.appendChild(docLink);\n",
              "        }\n",
              "      </script>\n",
              "    </div>\n",
              "  </div>\n"
            ]
          },
          "metadata": {},
          "execution_count": 54
        }
      ]
    },
    {
      "cell_type": "code",
      "source": [
        "!pip install pymorphy2"
      ],
      "metadata": {
        "colab": {
          "base_uri": "https://localhost:8080/"
        },
        "id": "vzyc5QLezkdr",
        "outputId": "3d6070da-0314-4f58-cb28-6f9d71a3cee3"
      },
      "execution_count": null,
      "outputs": [
        {
          "output_type": "stream",
          "name": "stdout",
          "text": [
            "Requirement already satisfied: pymorphy2 in /usr/local/lib/python3.10/dist-packages (0.9.1)\n",
            "Requirement already satisfied: dawg-python>=0.7.1 in /usr/local/lib/python3.10/dist-packages (from pymorphy2) (0.7.2)\n",
            "Requirement already satisfied: pymorphy2-dicts-ru<3.0,>=2.4 in /usr/local/lib/python3.10/dist-packages (from pymorphy2) (2.4.417127.4579844)\n",
            "Requirement already satisfied: docopt>=0.6 in /usr/local/lib/python3.10/dist-packages (from pymorphy2) (0.6.2)\n"
          ]
        }
      ]
    },
    {
      "cell_type": "code",
      "source": [
        "import pymorphy2"
      ],
      "metadata": {
        "id": "0s994MDIz8d3"
      },
      "execution_count": null,
      "outputs": []
    },
    {
      "cell_type": "code",
      "source": [
        "morph = pymorphy2.MorphAnalyzer()"
      ],
      "metadata": {
        "id": "TUpD0gKEz_lr"
      },
      "execution_count": null,
      "outputs": []
    },
    {
      "cell_type": "code",
      "source": [
        "word = df_news_2017.tokenized.iloc[0][2]"
      ],
      "metadata": {
        "id": "y__1MXVB0Hph"
      },
      "execution_count": null,
      "outputs": []
    },
    {
      "cell_type": "code",
      "source": [
        "word"
      ],
      "metadata": {
        "colab": {
          "base_uri": "https://localhost:8080/",
          "height": 35
        },
        "id": "GSAII6to0PRO",
        "outputId": "6622a4ba-97c6-4f08-ca65-5d544e09fb03"
      },
      "execution_count": null,
      "outputs": [
        {
          "output_type": "execute_result",
          "data": {
            "text/plain": [
              "'факту'"
            ],
            "application/vnd.google.colaboratory.intrinsic+json": {
              "type": "string"
            }
          },
          "metadata": {},
          "execution_count": 59
        }
      ]
    },
    {
      "cell_type": "code",
      "source": [
        "morph.parse(word)[0].normal_form"
      ],
      "metadata": {
        "colab": {
          "base_uri": "https://localhost:8080/",
          "height": 35
        },
        "id": "PxL-y-K20Qnz",
        "outputId": "51c88650-abf8-4c88-af72-1d10ef3e5e70"
      },
      "execution_count": null,
      "outputs": [
        {
          "output_type": "execute_result",
          "data": {
            "text/plain": [
              "'факт'"
            ],
            "application/vnd.google.colaboratory.intrinsic+json": {
              "type": "string"
            }
          },
          "metadata": {},
          "execution_count": 60
        }
      ]
    },
    {
      "cell_type": "code",
      "source": [
        "def lemmatize(text):\n",
        "    text_lemmatized = []\n",
        "    for word in text:\n",
        "        text_lemmatized.append(morph.parse(word)[0].normal_form)\n",
        "\n",
        "    return text_lemmatized"
      ],
      "metadata": {
        "id": "HJMTYm990SmP"
      },
      "execution_count": null,
      "outputs": []
    },
    {
      "cell_type": "code",
      "source": [
        "df_news_2017['data_lemmatized'] = df_news_2017.tokenized.apply(lemmatize)"
      ],
      "metadata": {
        "id": "U71AqULi0Vta"
      },
      "execution_count": null,
      "outputs": []
    },
    {
      "cell_type": "code",
      "source": [
        "df_news_2017"
      ],
      "metadata": {
        "colab": {
          "base_uri": "https://localhost:8080/",
          "height": 424
        },
        "id": "JlheE80J0dOW",
        "outputId": "d943f8b0-1055-4a08-f059-45ca00272664"
      },
      "execution_count": null,
      "outputs": [
        {
          "output_type": "execute_result",
          "data": {
            "text/plain": [
              "                   topic                                               data  \\\n",
              "0                  спорт  Возбуждено дело по факту избиения Расула Мирза...   \n",
              "1      силовые структуры  Двое силовиков пострадали в спецоперации в Даг...   \n",
              "2                  спорт  Опубликовано видео лучших моментов матча Росси...   \n",
              "3                    мир  Эрдоган назвал цель стамбульского теракта Цель...   \n",
              "4                 россия  В МЧС констатировали отсутствие серьезных прои...   \n",
              "...                  ...                                                ...   \n",
              "19838             россия  На Сахалине пошумели и спалили дотла 25-метров...   \n",
              "19839              спорт  Боксер Дрозд завершил карьеру Российский боксе...   \n",
              "19840              спорт  Нападающий «Манчестер Сити» заплакал из-за пол...   \n",
              "19841              спорт  Опубликован трейлер чемпионата мира по футболу...   \n",
              "19842  силовые структуры  СК спустя три дня после Путина признал взрыв в...   \n",
              "\n",
              "                                              data_clean  \\\n",
              "0      возбуждено дело по факту избиения расула мирза...   \n",
              "1      двое силовиков пострадали в спецоперации в даг...   \n",
              "2      опубликовано видео лучших моментов матча росси...   \n",
              "3      эрдоган назвал цель стамбульского теракта цель...   \n",
              "4      в мчс констатировали отсутствие серьезных прои...   \n",
              "...                                                  ...   \n",
              "19838  на сахалине пошумели и спалили дотла  метровую...   \n",
              "19839  боксер дрозд завершил карьеру российский боксе...   \n",
              "19840  нападающий  манчестер сити  заплакал из за пол...   \n",
              "19841  опубликован трейлер чемпионата мира по футболу...   \n",
              "19842  ск спустя три дня после путина признал взрыв в...   \n",
              "\n",
              "                                               tokenized  \\\n",
              "0      [возбуждено, дело, факту, избиения, расула, ми...   \n",
              "1      [двое, силовиков, пострадали, спецоперации, да...   \n",
              "2      [опубликовано, видео, лучших, моментов, матча,...   \n",
              "3      [эрдоган, назвал, цель, стамбульского, теракта...   \n",
              "4      [мчс, констатировали, отсутствие, серьезных, п...   \n",
              "...                                                  ...   \n",
              "19838  [сахалине, пошумели, спалили, дотла, метровую,...   \n",
              "19839  [боксер, дрозд, завершил, карьеру, российский,...   \n",
              "19840  [нападающий, манчестер, сити, заплакал, получе...   \n",
              "19841  [опубликован, трейлер, чемпионата, мира, футбо...   \n",
              "19842  [ск, спустя, дня, путина, признал, взрыв, пете...   \n",
              "\n",
              "                                         data_lemmatized  \n",
              "0      [возбудить, дело, факт, избиение, расул, мирза...  \n",
              "1      [двое, силовик, пострадать, спецоперация, даге...  \n",
              "2      [опубликовать, видео, хороший, момент, матч, р...  \n",
              "3      [эрдоган, назвать, цель, стамбульский, теракт,...  \n",
              "4      [мчс, констатировать, отсутствие, серьёзный, п...  \n",
              "...                                                  ...  \n",
              "19838  [сахалин, пошуметь, спалить, дотла, метровый, ...  \n",
              "19839  [боксёр, дрозд, завершить, карьера, российский...  \n",
              "19840  [нападать, манчестер, сити, заплакать, получит...  \n",
              "19841  [опубликовать, трейлер, чемпионат, мир, футбол...  \n",
              "19842  [ск, спустя, день, путин, признать, взрыв, пет...  \n",
              "\n",
              "[19843 rows x 5 columns]"
            ],
            "text/html": [
              "\n",
              "\n",
              "  <div id=\"df-f6d13b49-16d4-4f35-9728-50ef5046dd12\">\n",
              "    <div class=\"colab-df-container\">\n",
              "      <div>\n",
              "<style scoped>\n",
              "    .dataframe tbody tr th:only-of-type {\n",
              "        vertical-align: middle;\n",
              "    }\n",
              "\n",
              "    .dataframe tbody tr th {\n",
              "        vertical-align: top;\n",
              "    }\n",
              "\n",
              "    .dataframe thead th {\n",
              "        text-align: right;\n",
              "    }\n",
              "</style>\n",
              "<table border=\"1\" class=\"dataframe\">\n",
              "  <thead>\n",
              "    <tr style=\"text-align: right;\">\n",
              "      <th></th>\n",
              "      <th>topic</th>\n",
              "      <th>data</th>\n",
              "      <th>data_clean</th>\n",
              "      <th>tokenized</th>\n",
              "      <th>data_lemmatized</th>\n",
              "    </tr>\n",
              "  </thead>\n",
              "  <tbody>\n",
              "    <tr>\n",
              "      <th>0</th>\n",
              "      <td>спорт</td>\n",
              "      <td>Возбуждено дело по факту избиения Расула Мирза...</td>\n",
              "      <td>возбуждено дело по факту избиения расула мирза...</td>\n",
              "      <td>[возбуждено, дело, факту, избиения, расула, ми...</td>\n",
              "      <td>[возбудить, дело, факт, избиение, расул, мирза...</td>\n",
              "    </tr>\n",
              "    <tr>\n",
              "      <th>1</th>\n",
              "      <td>силовые структуры</td>\n",
              "      <td>Двое силовиков пострадали в спецоперации в Даг...</td>\n",
              "      <td>двое силовиков пострадали в спецоперации в даг...</td>\n",
              "      <td>[двое, силовиков, пострадали, спецоперации, да...</td>\n",
              "      <td>[двое, силовик, пострадать, спецоперация, даге...</td>\n",
              "    </tr>\n",
              "    <tr>\n",
              "      <th>2</th>\n",
              "      <td>спорт</td>\n",
              "      <td>Опубликовано видео лучших моментов матча Росси...</td>\n",
              "      <td>опубликовано видео лучших моментов матча росси...</td>\n",
              "      <td>[опубликовано, видео, лучших, моментов, матча,...</td>\n",
              "      <td>[опубликовать, видео, хороший, момент, матч, р...</td>\n",
              "    </tr>\n",
              "    <tr>\n",
              "      <th>3</th>\n",
              "      <td>мир</td>\n",
              "      <td>Эрдоган назвал цель стамбульского теракта Цель...</td>\n",
              "      <td>эрдоган назвал цель стамбульского теракта цель...</td>\n",
              "      <td>[эрдоган, назвал, цель, стамбульского, теракта...</td>\n",
              "      <td>[эрдоган, назвать, цель, стамбульский, теракт,...</td>\n",
              "    </tr>\n",
              "    <tr>\n",
              "      <th>4</th>\n",
              "      <td>россия</td>\n",
              "      <td>В МЧС констатировали отсутствие серьезных прои...</td>\n",
              "      <td>в мчс констатировали отсутствие серьезных прои...</td>\n",
              "      <td>[мчс, констатировали, отсутствие, серьезных, п...</td>\n",
              "      <td>[мчс, констатировать, отсутствие, серьёзный, п...</td>\n",
              "    </tr>\n",
              "    <tr>\n",
              "      <th>...</th>\n",
              "      <td>...</td>\n",
              "      <td>...</td>\n",
              "      <td>...</td>\n",
              "      <td>...</td>\n",
              "      <td>...</td>\n",
              "    </tr>\n",
              "    <tr>\n",
              "      <th>19838</th>\n",
              "      <td>россия</td>\n",
              "      <td>На Сахалине пошумели и спалили дотла 25-метров...</td>\n",
              "      <td>на сахалине пошумели и спалили дотла  метровую...</td>\n",
              "      <td>[сахалине, пошумели, спалили, дотла, метровую,...</td>\n",
              "      <td>[сахалин, пошуметь, спалить, дотла, метровый, ...</td>\n",
              "    </tr>\n",
              "    <tr>\n",
              "      <th>19839</th>\n",
              "      <td>спорт</td>\n",
              "      <td>Боксер Дрозд завершил карьеру Российский боксе...</td>\n",
              "      <td>боксер дрозд завершил карьеру российский боксе...</td>\n",
              "      <td>[боксер, дрозд, завершил, карьеру, российский,...</td>\n",
              "      <td>[боксёр, дрозд, завершить, карьера, российский...</td>\n",
              "    </tr>\n",
              "    <tr>\n",
              "      <th>19840</th>\n",
              "      <td>спорт</td>\n",
              "      <td>Нападающий «Манчестер Сити» заплакал из-за пол...</td>\n",
              "      <td>нападающий  манчестер сити  заплакал из за пол...</td>\n",
              "      <td>[нападающий, манчестер, сити, заплакал, получе...</td>\n",
              "      <td>[нападать, манчестер, сити, заплакать, получит...</td>\n",
              "    </tr>\n",
              "    <tr>\n",
              "      <th>19841</th>\n",
              "      <td>спорт</td>\n",
              "      <td>Опубликован трейлер чемпионата мира по футболу...</td>\n",
              "      <td>опубликован трейлер чемпионата мира по футболу...</td>\n",
              "      <td>[опубликован, трейлер, чемпионата, мира, футбо...</td>\n",
              "      <td>[опубликовать, трейлер, чемпионат, мир, футбол...</td>\n",
              "    </tr>\n",
              "    <tr>\n",
              "      <th>19842</th>\n",
              "      <td>силовые структуры</td>\n",
              "      <td>СК спустя три дня после Путина признал взрыв в...</td>\n",
              "      <td>ск спустя три дня после путина признал взрыв в...</td>\n",
              "      <td>[ск, спустя, дня, путина, признал, взрыв, пете...</td>\n",
              "      <td>[ск, спустя, день, путин, признать, взрыв, пет...</td>\n",
              "    </tr>\n",
              "  </tbody>\n",
              "</table>\n",
              "<p>19843 rows × 5 columns</p>\n",
              "</div>\n",
              "      <button class=\"colab-df-convert\" onclick=\"convertToInteractive('df-f6d13b49-16d4-4f35-9728-50ef5046dd12')\"\n",
              "              title=\"Convert this dataframe to an interactive table.\"\n",
              "              style=\"display:none;\">\n",
              "\n",
              "  <svg xmlns=\"http://www.w3.org/2000/svg\" height=\"24px\"viewBox=\"0 0 24 24\"\n",
              "       width=\"24px\">\n",
              "    <path d=\"M0 0h24v24H0V0z\" fill=\"none\"/>\n",
              "    <path d=\"M18.56 5.44l.94 2.06.94-2.06 2.06-.94-2.06-.94-.94-2.06-.94 2.06-2.06.94zm-11 1L8.5 8.5l.94-2.06 2.06-.94-2.06-.94L8.5 2.5l-.94 2.06-2.06.94zm10 10l.94 2.06.94-2.06 2.06-.94-2.06-.94-.94-2.06-.94 2.06-2.06.94z\"/><path d=\"M17.41 7.96l-1.37-1.37c-.4-.4-.92-.59-1.43-.59-.52 0-1.04.2-1.43.59L10.3 9.45l-7.72 7.72c-.78.78-.78 2.05 0 2.83L4 21.41c.39.39.9.59 1.41.59.51 0 1.02-.2 1.41-.59l7.78-7.78 2.81-2.81c.8-.78.8-2.07 0-2.86zM5.41 20L4 18.59l7.72-7.72 1.47 1.35L5.41 20z\"/>\n",
              "  </svg>\n",
              "      </button>\n",
              "\n",
              "\n",
              "\n",
              "    <div id=\"df-c4f4b8d9-9df9-4054-a099-e688115962a5\">\n",
              "      <button class=\"colab-df-quickchart\" onclick=\"quickchart('df-c4f4b8d9-9df9-4054-a099-e688115962a5')\"\n",
              "              title=\"Suggest charts.\"\n",
              "              style=\"display:none;\">\n",
              "\n",
              "<svg xmlns=\"http://www.w3.org/2000/svg\" height=\"24px\"viewBox=\"0 0 24 24\"\n",
              "     width=\"24px\">\n",
              "    <g>\n",
              "        <path d=\"M19 3H5c-1.1 0-2 .9-2 2v14c0 1.1.9 2 2 2h14c1.1 0 2-.9 2-2V5c0-1.1-.9-2-2-2zM9 17H7v-7h2v7zm4 0h-2V7h2v10zm4 0h-2v-4h2v4z\"/>\n",
              "    </g>\n",
              "</svg>\n",
              "      </button>\n",
              "    </div>\n",
              "\n",
              "<style>\n",
              "  .colab-df-quickchart {\n",
              "    background-color: #E8F0FE;\n",
              "    border: none;\n",
              "    border-radius: 50%;\n",
              "    cursor: pointer;\n",
              "    display: none;\n",
              "    fill: #1967D2;\n",
              "    height: 32px;\n",
              "    padding: 0 0 0 0;\n",
              "    width: 32px;\n",
              "  }\n",
              "\n",
              "  .colab-df-quickchart:hover {\n",
              "    background-color: #E2EBFA;\n",
              "    box-shadow: 0px 1px 2px rgba(60, 64, 67, 0.3), 0px 1px 3px 1px rgba(60, 64, 67, 0.15);\n",
              "    fill: #174EA6;\n",
              "  }\n",
              "\n",
              "  [theme=dark] .colab-df-quickchart {\n",
              "    background-color: #3B4455;\n",
              "    fill: #D2E3FC;\n",
              "  }\n",
              "\n",
              "  [theme=dark] .colab-df-quickchart:hover {\n",
              "    background-color: #434B5C;\n",
              "    box-shadow: 0px 1px 3px 1px rgba(0, 0, 0, 0.15);\n",
              "    filter: drop-shadow(0px 1px 2px rgba(0, 0, 0, 0.3));\n",
              "    fill: #FFFFFF;\n",
              "  }\n",
              "</style>\n",
              "\n",
              "    <script>\n",
              "      async function quickchart(key) {\n",
              "        const containerElement = document.querySelector('#' + key);\n",
              "        const charts = await google.colab.kernel.invokeFunction(\n",
              "            'suggestCharts', [key], {});\n",
              "      }\n",
              "    </script>\n",
              "\n",
              "      <script>\n",
              "\n",
              "function displayQuickchartButton(domScope) {\n",
              "  let quickchartButtonEl =\n",
              "    domScope.querySelector('#df-c4f4b8d9-9df9-4054-a099-e688115962a5 button.colab-df-quickchart');\n",
              "  quickchartButtonEl.style.display =\n",
              "    google.colab.kernel.accessAllowed ? 'block' : 'none';\n",
              "}\n",
              "\n",
              "        displayQuickchartButton(document);\n",
              "      </script>\n",
              "      <style>\n",
              "    .colab-df-container {\n",
              "      display:flex;\n",
              "      flex-wrap:wrap;\n",
              "      gap: 12px;\n",
              "    }\n",
              "\n",
              "    .colab-df-convert {\n",
              "      background-color: #E8F0FE;\n",
              "      border: none;\n",
              "      border-radius: 50%;\n",
              "      cursor: pointer;\n",
              "      display: none;\n",
              "      fill: #1967D2;\n",
              "      height: 32px;\n",
              "      padding: 0 0 0 0;\n",
              "      width: 32px;\n",
              "    }\n",
              "\n",
              "    .colab-df-convert:hover {\n",
              "      background-color: #E2EBFA;\n",
              "      box-shadow: 0px 1px 2px rgba(60, 64, 67, 0.3), 0px 1px 3px 1px rgba(60, 64, 67, 0.15);\n",
              "      fill: #174EA6;\n",
              "    }\n",
              "\n",
              "    [theme=dark] .colab-df-convert {\n",
              "      background-color: #3B4455;\n",
              "      fill: #D2E3FC;\n",
              "    }\n",
              "\n",
              "    [theme=dark] .colab-df-convert:hover {\n",
              "      background-color: #434B5C;\n",
              "      box-shadow: 0px 1px 3px 1px rgba(0, 0, 0, 0.15);\n",
              "      filter: drop-shadow(0px 1px 2px rgba(0, 0, 0, 0.3));\n",
              "      fill: #FFFFFF;\n",
              "    }\n",
              "  </style>\n",
              "\n",
              "      <script>\n",
              "        const buttonEl =\n",
              "          document.querySelector('#df-f6d13b49-16d4-4f35-9728-50ef5046dd12 button.colab-df-convert');\n",
              "        buttonEl.style.display =\n",
              "          google.colab.kernel.accessAllowed ? 'block' : 'none';\n",
              "\n",
              "        async function convertToInteractive(key) {\n",
              "          const element = document.querySelector('#df-f6d13b49-16d4-4f35-9728-50ef5046dd12');\n",
              "          const dataTable =\n",
              "            await google.colab.kernel.invokeFunction('convertToInteractive',\n",
              "                                                     [key], {});\n",
              "          if (!dataTable) return;\n",
              "\n",
              "          const docLinkHtml = 'Like what you see? Visit the ' +\n",
              "            '<a target=\"_blank\" href=https://colab.research.google.com/notebooks/data_table.ipynb>data table notebook</a>'\n",
              "            + ' to learn more about interactive tables.';\n",
              "          element.innerHTML = '';\n",
              "          dataTable['output_type'] = 'display_data';\n",
              "          await google.colab.output.renderOutput(dataTable, element);\n",
              "          const docLink = document.createElement('div');\n",
              "          docLink.innerHTML = docLinkHtml;\n",
              "          element.appendChild(docLink);\n",
              "        }\n",
              "      </script>\n",
              "    </div>\n",
              "  </div>\n"
            ]
          },
          "metadata": {},
          "execution_count": 63
        }
      ]
    },
    {
      "cell_type": "code",
      "source": [
        "from nltk.probability import FreqDist"
      ],
      "metadata": {
        "id": "y3VUG6Hh75Gj"
      },
      "execution_count": null,
      "outputs": []
    },
    {
      "cell_type": "code",
      "source": [
        "from wordcloud import WordCloud, STOPWORDS"
      ],
      "metadata": {
        "id": "_RKcUJ6t8G24"
      },
      "execution_count": null,
      "outputs": []
    },
    {
      "cell_type": "code",
      "source": [
        "def str_corpus(corpus):\n",
        "    str_corpus = ''\n",
        "    for i in corpus:\n",
        "        str_corpus += ' ' + i\n",
        "    str_corpus = str_corpus.strip()\n",
        "    return str_corpus\n",
        "# Получение списка всех слов в корпусе\n",
        "def get_corpus(data):\n",
        "    corpus = []\n",
        "    for phrase in data:\n",
        "        for word in phrase:\n",
        "            corpus.append(word)\n",
        "    return corpus\n",
        "# Получение облака слов\n",
        "def get_wordCloud(corpus):\n",
        "    wordCloud = WordCloud(background_color='white',\n",
        "                              stopwords=STOPWORDS,\n",
        "                              width=3000,\n",
        "                              height=2500,\n",
        "                              max_words=200,\n",
        "                              random_state=42\n",
        "                         ).generate(str_corpus(corpus))\n",
        "    return wordCloud"
      ],
      "metadata": {
        "id": "UykU7LNn8KSu"
      },
      "execution_count": null,
      "outputs": []
    },
    {
      "cell_type": "code",
      "source": [
        "corpus = get_corpus(df_news_2017['data_lemmatized'].values)\n",
        "procWordCloud = get_wordCloud(corpus)\n",
        "\n",
        "fig = plt.figure(figsize=(20, 8))\n",
        "plt.subplot(1, 2, 1)\n",
        "plt.imshow(procWordCloud)\n",
        "plt.axis('off')\n",
        "plt.subplot(1, 2, 1)"
      ],
      "metadata": {
        "colab": {
          "base_uri": "https://localhost:8080/",
          "height": 641
        },
        "id": "G8cpJVHu8OEU",
        "outputId": "e4636f07-4038-4fb2-92cd-af1bd1381326"
      },
      "execution_count": null,
      "outputs": [
        {
          "output_type": "execute_result",
          "data": {
            "text/plain": [
              "<Axes: >"
            ]
          },
          "metadata": {},
          "execution_count": 68
        },
        {
          "output_type": "display_data",
          "data": {
            "text/plain": [
              "<Figure size 2000x800 with 1 Axes>"
            ],
            "image/png": "[encoded data removed]"
          },
          "metadata": {}
        }
      ]
    },
    {
      "cell_type": "code",
      "source": [
        "freq = nltk.FreqDist(corpus)"
      ],
      "metadata": {
        "id": "6ELshPJC8WiD"
      },
      "execution_count": null,
      "outputs": []
    },
    {
      "cell_type": "code",
      "source": [
        "freq.most_common(10)"
      ],
      "metadata": {
        "colab": {
          "base_uri": "https://localhost:8080/"
        },
        "id": "raSmXVhw8ZEK",
        "outputId": "147514b6-1a39-4470-b2c0-efe2434ad1a6"
      },
      "execution_count": null,
      "outputs": [
        {
          "output_type": "execute_result",
          "data": {
            "text/plain": [
              "[('год', 25541),\n",
              " ('россия', 19338),\n",
              " ('который', 16254),\n",
              " ('российский', 9465),\n",
              " ('также', 9060),\n",
              " ('человек', 9019),\n",
              " ('заявить', 8985),\n",
              " ('сообщать', 8711),\n",
              " ('сша', 8695),\n",
              " ('президент', 8597)]"
            ]
          },
          "metadata": {},
          "execution_count": 70
        }
      ]
    },
    {
      "cell_type": "code",
      "source": [
        "freq_russia = nltk.FreqDist(get_corpus(df_news_2017['data_lemmatized']\n",
        "                                         [df_news_2017['topic']=='россия'].values))"
      ],
      "metadata": {
        "id": "ZV849HMD9BkV"
      },
      "execution_count": null,
      "outputs": []
    },
    {
      "cell_type": "code",
      "source": [
        "freq_russia.most_common(10)"
      ],
      "metadata": {
        "colab": {
          "base_uri": "https://localhost:8080/"
        },
        "id": "77Qe8eNH9Nyh",
        "outputId": "8f3ab1a1-13b3-460c-abb0-61bcfaf03829"
      },
      "execution_count": null,
      "outputs": [
        {
          "output_type": "execute_result",
          "data": {
            "text/plain": [
              "[('год', 6246),\n",
              " ('россия', 5753),\n",
              " ('который', 4547),\n",
              " ('президент', 3138),\n",
              " ('человек', 3081),\n",
              " ('глава', 2653),\n",
              " ('москва', 2631),\n",
              " ('также', 2575),\n",
              " ('путин', 2518),\n",
              " ('область', 2500)]"
            ]
          },
          "metadata": {},
          "execution_count": 77
        }
      ]
    },
    {
      "cell_type": "code",
      "source": [
        "freq_world = nltk.FreqDist(get_corpus(df_news_2017['data_lemmatized']\n",
        "                                         [df_news_2017['topic']=='мир'].values))"
      ],
      "metadata": {
        "id": "ciJy5jyB9UC1"
      },
      "execution_count": null,
      "outputs": []
    },
    {
      "cell_type": "code",
      "source": [
        "freq_world.most_common(10)"
      ],
      "metadata": {
        "colab": {
          "base_uri": "https://localhost:8080/"
        },
        "id": "_n11AIWt9Wrw",
        "outputId": "4511732b-9d8c-4e91-c032-bdcba2f9799f"
      },
      "execution_count": null,
      "outputs": [
        {
          "output_type": "execute_result",
          "data": {
            "text/plain": [
              "[('сша', 5722),\n",
              " ('год', 5115),\n",
              " ('россия', 4945),\n",
              " ('который', 4667),\n",
              " ('президент', 3975),\n",
              " ('трамп', 3738),\n",
              " ('человек', 3542),\n",
              " ('страна', 3476),\n",
              " ('заявить', 3323),\n",
              " ('сообщать', 3044)]"
            ]
          },
          "metadata": {},
          "execution_count": 78
        }
      ]
    },
    {
      "cell_type": "code",
      "source": [
        "freq_sport = nltk.FreqDist(get_corpus(df_news_2017['data_lemmatized']\n",
        "                                         [df_news_2017['topic']=='спорт'].values))"
      ],
      "metadata": {
        "id": "XSu6syXB9cvN"
      },
      "execution_count": null,
      "outputs": []
    },
    {
      "cell_type": "code",
      "source": [
        "freq_sport.most_common(10)"
      ],
      "metadata": {
        "colab": {
          "base_uri": "https://localhost:8080/"
        },
        "id": "egDWUBau9i2a",
        "outputId": "e44d83e9-d261-4f81-a30f-b87b1e0a5279"
      },
      "execution_count": null,
      "outputs": [
        {
          "output_type": "execute_result",
          "data": {
            "text/plain": [
              "[('год', 5300),\n",
              " ('матч', 4548),\n",
              " ('россия', 4036),\n",
              " ('команда', 3271),\n",
              " ('чемпионат', 3256),\n",
              " ('российский', 3167),\n",
              " ('сборная', 3148),\n",
              " ('который', 3106),\n",
              " ('мир', 2722),\n",
              " ('клуб', 2330)]"
            ]
          },
          "metadata": {},
          "execution_count": 80
        }
      ]
    },
    {
      "cell_type": "code",
      "source": [
        "freq_power = nltk.FreqDist(get_corpus(df_news_2017['data_lemmatized']\n",
        "                                         [df_news_2017['topic']=='силовые структуры'].values))"
      ],
      "metadata": {
        "id": "w1QpqRoJ9koM"
      },
      "execution_count": null,
      "outputs": []
    },
    {
      "cell_type": "code",
      "source": [
        "freq_power.most_common(10)"
      ],
      "metadata": {
        "colab": {
          "base_uri": "https://localhost:8080/"
        },
        "id": "GicSmqsl9nwP",
        "outputId": "1560766d-5e00-4bd3-bb27-a8c228a1dc78"
      },
      "execution_count": null,
      "outputs": [
        {
          "output_type": "execute_result",
          "data": {
            "text/plain": [
              "[('год', 8871),\n",
              " ('россия', 4602),\n",
              " ('дело', 4198),\n",
              " ('который', 3928),\n",
              " ('сообщить', 3449),\n",
              " ('суд', 2903),\n",
              " ('задержать', 2646),\n",
              " ('военный', 2621),\n",
              " ('также', 2508),\n",
              " ('уголовный', 2457)]"
            ]
          },
          "metadata": {},
          "execution_count": 82
        }
      ]
    },
    {
      "cell_type": "code",
      "source": [
        "from sklearn.feature_extraction.text import TfidfVectorizer\n",
        "from sklearn.model_selection import train_test_split"
      ],
      "metadata": {
        "id": "f3r25cXN9qzm"
      },
      "execution_count": null,
      "outputs": []
    },
    {
      "cell_type": "code",
      "source": [
        "def join_list(text):\n",
        "    return ' '.join(text)"
      ],
      "metadata": {
        "id": "cHHv3fkW-Fwb"
      },
      "execution_count": null,
      "outputs": []
    },
    {
      "cell_type": "code",
      "source": [
        "df_news_2017['text_joined'] = df_news_2017.data_lemmatized.apply(join_list)"
      ],
      "metadata": {
        "id": "EATT_cGL-K75"
      },
      "execution_count": null,
      "outputs": []
    },
    {
      "cell_type": "code",
      "source": [
        "df_news_2017"
      ],
      "metadata": {
        "colab": {
          "base_uri": "https://localhost:8080/",
          "height": 424
        },
        "id": "oiUSUwgc-TCD",
        "outputId": "33184602-f35c-4996-8fed-795a1f51709b"
      },
      "execution_count": null,
      "outputs": [
        {
          "output_type": "execute_result",
          "data": {
            "text/plain": [
              "       topic                                               data  \\\n",
              "0        2.0  Возбуждено дело по факту избиения Расула Мирза...   \n",
              "1        3.0  Двое силовиков пострадали в спецоперации в Даг...   \n",
              "2        2.0  Опубликовано видео лучших моментов матча Росси...   \n",
              "3        1.0  Эрдоган назвал цель стамбульского теракта Цель...   \n",
              "4        0.0  В МЧС констатировали отсутствие серьезных прои...   \n",
              "...      ...                                                ...   \n",
              "19838    0.0  На Сахалине пошумели и спалили дотла 25-метров...   \n",
              "19839    2.0  Боксер Дрозд завершил карьеру Российский боксе...   \n",
              "19840    2.0  Нападающий «Манчестер Сити» заплакал из-за пол...   \n",
              "19841    2.0  Опубликован трейлер чемпионата мира по футболу...   \n",
              "19842    3.0  СК спустя три дня после Путина признал взрыв в...   \n",
              "\n",
              "                                              data_clean  \\\n",
              "0      возбуждено дело по факту избиения расула мирза...   \n",
              "1      двое силовиков пострадали в спецоперации в даг...   \n",
              "2      опубликовано видео лучших моментов матча росси...   \n",
              "3      эрдоган назвал цель стамбульского теракта цель...   \n",
              "4      в мчс констатировали отсутствие серьезных прои...   \n",
              "...                                                  ...   \n",
              "19838  на сахалине пошумели и спалили дотла  метровую...   \n",
              "19839  боксер дрозд завершил карьеру российский боксе...   \n",
              "19840  нападающий  манчестер сити  заплакал из за пол...   \n",
              "19841  опубликован трейлер чемпионата мира по футболу...   \n",
              "19842  ск спустя три дня после путина признал взрыв в...   \n",
              "\n",
              "                                               tokenized  \\\n",
              "0      [возбуждено, дело, факту, избиения, расула, ми...   \n",
              "1      [двое, силовиков, пострадали, спецоперации, да...   \n",
              "2      [опубликовано, видео, лучших, моментов, матча,...   \n",
              "3      [эрдоган, назвал, цель, стамбульского, теракта...   \n",
              "4      [мчс, констатировали, отсутствие, серьезных, п...   \n",
              "...                                                  ...   \n",
              "19838  [сахалине, пошумели, спалили, дотла, метровую,...   \n",
              "19839  [боксер, дрозд, завершил, карьеру, российский,...   \n",
              "19840  [нападающий, манчестер, сити, заплакал, получе...   \n",
              "19841  [опубликован, трейлер, чемпионата, мира, футбо...   \n",
              "19842  [ск, спустя, дня, путина, признал, взрыв, пете...   \n",
              "\n",
              "                                         data_lemmatized  \\\n",
              "0      [возбудить, дело, факт, избиение, расул, мирза...   \n",
              "1      [двое, силовик, пострадать, спецоперация, даге...   \n",
              "2      [опубликовать, видео, хороший, момент, матч, р...   \n",
              "3      [эрдоган, назвать, цель, стамбульский, теракт,...   \n",
              "4      [мчс, констатировать, отсутствие, серьёзный, п...   \n",
              "...                                                  ...   \n",
              "19838  [сахалин, пошуметь, спалить, дотла, метровый, ...   \n",
              "19839  [боксёр, дрозд, завершить, карьера, российский...   \n",
              "19840  [нападать, манчестер, сити, заплакать, получит...   \n",
              "19841  [опубликовать, трейлер, чемпионат, мир, футбол...   \n",
              "19842  [ск, спустя, день, путин, признать, взрыв, пет...   \n",
              "\n",
              "                                             text_joined  \n",
              "0      возбудить дело факт избиение расул мирзаева сл...  \n",
              "1      двое силовик пострадать спецоперация дагестан ...  \n",
              "2      опубликовать видео хороший момент матч россия ...  \n",
              "3      эрдоган назвать цель стамбульский теракт цель ...  \n",
              "4      мчс констатировать отсутствие серьёзный происш...  \n",
              "...                                                  ...  \n",
              "19838  сахалин пошуметь спалить дотла метровый ёлка ц...  \n",
              "19839  боксёр дрозд завершить карьера российский бокс...  \n",
              "19840  нападать манчестер сити заплакать получить тра...  \n",
              "19841  опубликовать трейлер чемпионат мир футбол стил...  \n",
              "19842  ск спустя день путин признать взрыв петербург ...  \n",
              "\n",
              "[19843 rows x 6 columns]"
            ],
            "text/html": [
              "\n",
              "\n",
              "  <div id=\"df-ad25a2e6-6136-42b8-b3e3-56ce6fda951b\">\n",
              "    <div class=\"colab-df-container\">\n",
              "      <div>\n",
              "<style scoped>\n",
              "    .dataframe tbody tr th:only-of-type {\n",
              "        vertical-align: middle;\n",
              "    }\n",
              "\n",
              "    .dataframe tbody tr th {\n",
              "        vertical-align: top;\n",
              "    }\n",
              "\n",
              "    .dataframe thead th {\n",
              "        text-align: right;\n",
              "    }\n",
              "</style>\n",
              "<table border=\"1\" class=\"dataframe\">\n",
              "  <thead>\n",
              "    <tr style=\"text-align: right;\">\n",
              "      <th></th>\n",
              "      <th>topic</th>\n",
              "      <th>data</th>\n",
              "      <th>data_clean</th>\n",
              "      <th>tokenized</th>\n",
              "      <th>data_lemmatized</th>\n",
              "      <th>text_joined</th>\n",
              "    </tr>\n",
              "  </thead>\n",
              "  <tbody>\n",
              "    <tr>\n",
              "      <th>0</th>\n",
              "      <td>2.0</td>\n",
              "      <td>Возбуждено дело по факту избиения Расула Мирза...</td>\n",
              "      <td>возбуждено дело по факту избиения расула мирза...</td>\n",
              "      <td>[возбуждено, дело, факту, избиения, расула, ми...</td>\n",
              "      <td>[возбудить, дело, факт, избиение, расул, мирза...</td>\n",
              "      <td>возбудить дело факт избиение расул мирзаева сл...</td>\n",
              "    </tr>\n",
              "    <tr>\n",
              "      <th>1</th>\n",
              "      <td>3.0</td>\n",
              "      <td>Двое силовиков пострадали в спецоперации в Даг...</td>\n",
              "      <td>двое силовиков пострадали в спецоперации в даг...</td>\n",
              "      <td>[двое, силовиков, пострадали, спецоперации, да...</td>\n",
              "      <td>[двое, силовик, пострадать, спецоперация, даге...</td>\n",
              "      <td>двое силовик пострадать спецоперация дагестан ...</td>\n",
              "    </tr>\n",
              "    <tr>\n",
              "      <th>2</th>\n",
              "      <td>2.0</td>\n",
              "      <td>Опубликовано видео лучших моментов матча Росси...</td>\n",
              "      <td>опубликовано видео лучших моментов матча росси...</td>\n",
              "      <td>[опубликовано, видео, лучших, моментов, матча,...</td>\n",
              "      <td>[опубликовать, видео, хороший, момент, матч, р...</td>\n",
              "      <td>опубликовать видео хороший момент матч россия ...</td>\n",
              "    </tr>\n",
              "    <tr>\n",
              "      <th>3</th>\n",
              "      <td>1.0</td>\n",
              "      <td>Эрдоган назвал цель стамбульского теракта Цель...</td>\n",
              "      <td>эрдоган назвал цель стамбульского теракта цель...</td>\n",
              "      <td>[эрдоган, назвал, цель, стамбульского, теракта...</td>\n",
              "      <td>[эрдоган, назвать, цель, стамбульский, теракт,...</td>\n",
              "      <td>эрдоган назвать цель стамбульский теракт цель ...</td>\n",
              "    </tr>\n",
              "    <tr>\n",
              "      <th>4</th>\n",
              "      <td>0.0</td>\n",
              "      <td>В МЧС констатировали отсутствие серьезных прои...</td>\n",
              "      <td>в мчс констатировали отсутствие серьезных прои...</td>\n",
              "      <td>[мчс, констатировали, отсутствие, серьезных, п...</td>\n",
              "      <td>[мчс, констатировать, отсутствие, серьёзный, п...</td>\n",
              "      <td>мчс констатировать отсутствие серьёзный происш...</td>\n",
              "    </tr>\n",
              "    <tr>\n",
              "      <th>...</th>\n",
              "      <td>...</td>\n",
              "      <td>...</td>\n",
              "      <td>...</td>\n",
              "      <td>...</td>\n",
              "      <td>...</td>\n",
              "      <td>...</td>\n",
              "    </tr>\n",
              "    <tr>\n",
              "      <th>19838</th>\n",
              "      <td>0.0</td>\n",
              "      <td>На Сахалине пошумели и спалили дотла 25-метров...</td>\n",
              "      <td>на сахалине пошумели и спалили дотла  метровую...</td>\n",
              "      <td>[сахалине, пошумели, спалили, дотла, метровую,...</td>\n",
              "      <td>[сахалин, пошуметь, спалить, дотла, метровый, ...</td>\n",
              "      <td>сахалин пошуметь спалить дотла метровый ёлка ц...</td>\n",
              "    </tr>\n",
              "    <tr>\n",
              "      <th>19839</th>\n",
              "      <td>2.0</td>\n",
              "      <td>Боксер Дрозд завершил карьеру Российский боксе...</td>\n",
              "      <td>боксер дрозд завершил карьеру российский боксе...</td>\n",
              "      <td>[боксер, дрозд, завершил, карьеру, российский,...</td>\n",
              "      <td>[боксёр, дрозд, завершить, карьера, российский...</td>\n",
              "      <td>боксёр дрозд завершить карьера российский бокс...</td>\n",
              "    </tr>\n",
              "    <tr>\n",
              "      <th>19840</th>\n",
              "      <td>2.0</td>\n",
              "      <td>Нападающий «Манчестер Сити» заплакал из-за пол...</td>\n",
              "      <td>нападающий  манчестер сити  заплакал из за пол...</td>\n",
              "      <td>[нападающий, манчестер, сити, заплакал, получе...</td>\n",
              "      <td>[нападать, манчестер, сити, заплакать, получит...</td>\n",
              "      <td>нападать манчестер сити заплакать получить тра...</td>\n",
              "    </tr>\n",
              "    <tr>\n",
              "      <th>19841</th>\n",
              "      <td>2.0</td>\n",
              "      <td>Опубликован трейлер чемпионата мира по футболу...</td>\n",
              "      <td>опубликован трейлер чемпионата мира по футболу...</td>\n",
              "      <td>[опубликован, трейлер, чемпионата, мира, футбо...</td>\n",
              "      <td>[опубликовать, трейлер, чемпионат, мир, футбол...</td>\n",
              "      <td>опубликовать трейлер чемпионат мир футбол стил...</td>\n",
              "    </tr>\n",
              "    <tr>\n",
              "      <th>19842</th>\n",
              "      <td>3.0</td>\n",
              "      <td>СК спустя три дня после Путина признал взрыв в...</td>\n",
              "      <td>ск спустя три дня после путина признал взрыв в...</td>\n",
              "      <td>[ск, спустя, дня, путина, признал, взрыв, пете...</td>\n",
              "      <td>[ск, спустя, день, путин, признать, взрыв, пет...</td>\n",
              "      <td>ск спустя день путин признать взрыв петербург ...</td>\n",
              "    </tr>\n",
              "  </tbody>\n",
              "</table>\n",
              "<p>19843 rows × 6 columns</p>\n",
              "</div>\n",
              "      <button class=\"colab-df-convert\" onclick=\"convertToInteractive('df-ad25a2e6-6136-42b8-b3e3-56ce6fda951b')\"\n",
              "              title=\"Convert this dataframe to an interactive table.\"\n",
              "              style=\"display:none;\">\n",
              "\n",
              "  <svg xmlns=\"http://www.w3.org/2000/svg\" height=\"24px\"viewBox=\"0 0 24 24\"\n",
              "       width=\"24px\">\n",
              "    <path d=\"M0 0h24v24H0V0z\" fill=\"none\"/>\n",
              "    <path d=\"M18.56 5.44l.94 2.06.94-2.06 2.06-.94-2.06-.94-.94-2.06-.94 2.06-2.06.94zm-11 1L8.5 8.5l.94-2.06 2.06-.94-2.06-.94L8.5 2.5l-.94 2.06-2.06.94zm10 10l.94 2.06.94-2.06 2.06-.94-2.06-.94-.94-2.06-.94 2.06-2.06.94z\"/><path d=\"M17.41 7.96l-1.37-1.37c-.4-.4-.92-.59-1.43-.59-.52 0-1.04.2-1.43.59L10.3 9.45l-7.72 7.72c-.78.78-.78 2.05 0 2.83L4 21.41c.39.39.9.59 1.41.59.51 0 1.02-.2 1.41-.59l7.78-7.78 2.81-2.81c.8-.78.8-2.07 0-2.86zM5.41 20L4 18.59l7.72-7.72 1.47 1.35L5.41 20z\"/>\n",
              "  </svg>\n",
              "      </button>\n",
              "\n",
              "\n",
              "\n",
              "    <div id=\"df-e9d07b25-6413-4fb9-8ff1-b90fbc1333fc\">\n",
              "      <button class=\"colab-df-quickchart\" onclick=\"quickchart('df-e9d07b25-6413-4fb9-8ff1-b90fbc1333fc')\"\n",
              "              title=\"Suggest charts.\"\n",
              "              style=\"display:none;\">\n",
              "\n",
              "<svg xmlns=\"http://www.w3.org/2000/svg\" height=\"24px\"viewBox=\"0 0 24 24\"\n",
              "     width=\"24px\">\n",
              "    <g>\n",
              "        <path d=\"M19 3H5c-1.1 0-2 .9-2 2v14c0 1.1.9 2 2 2h14c1.1 0 2-.9 2-2V5c0-1.1-.9-2-2-2zM9 17H7v-7h2v7zm4 0h-2V7h2v10zm4 0h-2v-4h2v4z\"/>\n",
              "    </g>\n",
              "</svg>\n",
              "      </button>\n",
              "    </div>\n",
              "\n",
              "<style>\n",
              "  .colab-df-quickchart {\n",
              "    background-color: #E8F0FE;\n",
              "    border: none;\n",
              "    border-radius: 50%;\n",
              "    cursor: pointer;\n",
              "    display: none;\n",
              "    fill: #1967D2;\n",
              "    height: 32px;\n",
              "    padding: 0 0 0 0;\n",
              "    width: 32px;\n",
              "  }\n",
              "\n",
              "  .colab-df-quickchart:hover {\n",
              "    background-color: #E2EBFA;\n",
              "    box-shadow: 0px 1px 2px rgba(60, 64, 67, 0.3), 0px 1px 3px 1px rgba(60, 64, 67, 0.15);\n",
              "    fill: #174EA6;\n",
              "  }\n",
              "\n",
              "  [theme=dark] .colab-df-quickchart {\n",
              "    background-color: #3B4455;\n",
              "    fill: #D2E3FC;\n",
              "  }\n",
              "\n",
              "  [theme=dark] .colab-df-quickchart:hover {\n",
              "    background-color: #434B5C;\n",
              "    box-shadow: 0px 1px 3px 1px rgba(0, 0, 0, 0.15);\n",
              "    filter: drop-shadow(0px 1px 2px rgba(0, 0, 0, 0.3));\n",
              "    fill: #FFFFFF;\n",
              "  }\n",
              "</style>\n",
              "\n",
              "    <script>\n",
              "      async function quickchart(key) {\n",
              "        const containerElement = document.querySelector('#' + key);\n",
              "        const charts = await google.colab.kernel.invokeFunction(\n",
              "            'suggestCharts', [key], {});\n",
              "      }\n",
              "    </script>\n",
              "\n",
              "      <script>\n",
              "\n",
              "function displayQuickchartButton(domScope) {\n",
              "  let quickchartButtonEl =\n",
              "    domScope.querySelector('#df-e9d07b25-6413-4fb9-8ff1-b90fbc1333fc button.colab-df-quickchart');\n",
              "  quickchartButtonEl.style.display =\n",
              "    google.colab.kernel.accessAllowed ? 'block' : 'none';\n",
              "}\n",
              "\n",
              "        displayQuickchartButton(document);\n",
              "      </script>\n",
              "      <style>\n",
              "    .colab-df-container {\n",
              "      display:flex;\n",
              "      flex-wrap:wrap;\n",
              "      gap: 12px;\n",
              "    }\n",
              "\n",
              "    .colab-df-convert {\n",
              "      background-color: #E8F0FE;\n",
              "      border: none;\n",
              "      border-radius: 50%;\n",
              "      cursor: pointer;\n",
              "      display: none;\n",
              "      fill: #1967D2;\n",
              "      height: 32px;\n",
              "      padding: 0 0 0 0;\n",
              "      width: 32px;\n",
              "    }\n",
              "\n",
              "    .colab-df-convert:hover {\n",
              "      background-color: #E2EBFA;\n",
              "      box-shadow: 0px 1px 2px rgba(60, 64, 67, 0.3), 0px 1px 3px 1px rgba(60, 64, 67, 0.15);\n",
              "      fill: #174EA6;\n",
              "    }\n",
              "\n",
              "    [theme=dark] .colab-df-convert {\n",
              "      background-color: #3B4455;\n",
              "      fill: #D2E3FC;\n",
              "    }\n",
              "\n",
              "    [theme=dark] .colab-df-convert:hover {\n",
              "      background-color: #434B5C;\n",
              "      box-shadow: 0px 1px 3px 1px rgba(0, 0, 0, 0.15);\n",
              "      filter: drop-shadow(0px 1px 2px rgba(0, 0, 0, 0.3));\n",
              "      fill: #FFFFFF;\n",
              "    }\n",
              "  </style>\n",
              "\n",
              "      <script>\n",
              "        const buttonEl =\n",
              "          document.querySelector('#df-ad25a2e6-6136-42b8-b3e3-56ce6fda951b button.colab-df-convert');\n",
              "        buttonEl.style.display =\n",
              "          google.colab.kernel.accessAllowed ? 'block' : 'none';\n",
              "\n",
              "        async function convertToInteractive(key) {\n",
              "          const element = document.querySelector('#df-ad25a2e6-6136-42b8-b3e3-56ce6fda951b');\n",
              "          const dataTable =\n",
              "            await google.colab.kernel.invokeFunction('convertToInteractive',\n",
              "                                                     [key], {});\n",
              "          if (!dataTable) return;\n",
              "\n",
              "          const docLinkHtml = 'Like what you see? Visit the ' +\n",
              "            '<a target=\"_blank\" href=https://colab.research.google.com/notebooks/data_table.ipynb>data table notebook</a>'\n",
              "            + ' to learn more about interactive tables.';\n",
              "          element.innerHTML = '';\n",
              "          dataTable['output_type'] = 'display_data';\n",
              "          await google.colab.output.renderOutput(dataTable, element);\n",
              "          const docLink = document.createElement('div');\n",
              "          docLink.innerHTML = docLinkHtml;\n",
              "          element.appendChild(docLink);\n",
              "        }\n",
              "      </script>\n",
              "    </div>\n",
              "  </div>\n"
            ]
          },
          "metadata": {},
          "execution_count": 88
        }
      ]
    },
    {
      "cell_type": "code",
      "source": [
        "df_news_2017.topic.replace({\n",
        "    'россия': 0,\n",
        "    'мир': 1,\n",
        "    'спорт': 2,\n",
        "    'силовые структуры': 3,\n",
        "}, inplace = True)"
      ],
      "metadata": {
        "id": "9YfEzKuz-WkP"
      },
      "execution_count": null,
      "outputs": []
    },
    {
      "cell_type": "code",
      "source": [
        "x = df_news_2017['text_joined']"
      ],
      "metadata": {
        "id": "58bWzSy--7ev"
      },
      "execution_count": null,
      "outputs": []
    },
    {
      "cell_type": "code",
      "source": [
        "y = df_news_2017['topic']"
      ],
      "metadata": {
        "id": "3E4NgdKM_EZ3"
      },
      "execution_count": null,
      "outputs": []
    },
    {
      "cell_type": "code",
      "source": [
        "x_train, x_test, y_train, y_test = train_test_split(x , y, test_size=0.2, random_state=47)"
      ],
      "metadata": {
        "id": "ct7c--Jv_Ky3"
      },
      "execution_count": null,
      "outputs": []
    },
    {
      "cell_type": "code",
      "source": [
        "vectorizer = TfidfVectorizer()\n",
        "tfidf_train = vectorizer.fit_transform(x_train)\n",
        "tfidf_test = vectorizer.transform(x_test)"
      ],
      "metadata": {
        "id": "eJhH68vU_M9L"
      },
      "execution_count": null,
      "outputs": []
    },
    {
      "cell_type": "code",
      "source": [
        "tfidf_train.shape, tfidf_test.shape"
      ],
      "metadata": {
        "colab": {
          "base_uri": "https://localhost:8080/"
        },
        "id": "LTgp4X1e_OM3",
        "outputId": "9ddf6d97-1ec4-4513-f295-5b98d8fa45c4"
      },
      "execution_count": null,
      "outputs": [
        {
          "output_type": "execute_result",
          "data": {
            "text/plain": [
              "((15868, 52697), (3967, 52697))"
            ]
          },
          "metadata": {},
          "execution_count": 104
        }
      ]
    },
    {
      "cell_type": "code",
      "source": [
        "from sklearn.linear_model import PassiveAggressiveClassifier\n",
        "from sklearn.metrics import accuracy_score, confusion_matrix"
      ],
      "metadata": {
        "id": "q3Qq7LvW_Rg7"
      },
      "execution_count": null,
      "outputs": []
    },
    {
      "cell_type": "code",
      "source": [
        "df_news_2017.dropna(inplace=True)"
      ],
      "metadata": {
        "id": "PTm_8OcS_fZP"
      },
      "execution_count": null,
      "outputs": []
    },
    {
      "cell_type": "code",
      "source": [
        "pac = PassiveAggressiveClassifier(random_state = 42, loss = 'squared_hinge',  max_iter = 50, C = 0.16)\n",
        "pac.fit(tfidf_train, y_train.values.ravel())"
      ],
      "metadata": {
        "colab": {
          "base_uri": "https://localhost:8080/",
          "height": 92
        },
        "id": "Yhamhl_X_TKM",
        "outputId": "b5b8ea5f-fe24-42ea-b0dd-c9ea3caa9381"
      },
      "execution_count": null,
      "outputs": [
        {
          "output_type": "execute_result",
          "data": {
            "text/plain": [
              "PassiveAggressiveClassifier(C=0.16, loss='squared_hinge', max_iter=50,\n",
              "                            random_state=42)"
            ],
            "text/html": [
              "<style>#sk-container-id-1 {color: black;background-color: white;}#sk-container-id-1 pre{padding: 0;}#sk-container-id-1 div.sk-toggleable {background-color: white;}#sk-container-id-1 label.sk-toggleable__label {cursor: pointer;display: block;width: 100%;margin-bottom: 0;padding: 0.3em;box-sizing: border-box;text-align: center;}#sk-container-id-1 label.sk-toggleable__label-arrow:before {content: \"▸\";float: left;margin-right: 0.25em;color: #696969;}#sk-container-id-1 label.sk-toggleable__label-arrow:hover:before {color: black;}#sk-container-id-1 div.sk-estimator:hover label.sk-toggleable__label-arrow:before {color: black;}#sk-container-id-1 div.sk-toggleable__content {max-height: 0;max-width: 0;overflow: hidden;text-align: left;background-color: #f0f8ff;}#sk-container-id-1 div.sk-toggleable__content pre {margin: 0.2em;color: black;border-radius: 0.25em;background-color: #f0f8ff;}#sk-container-id-1 input.sk-toggleable__control:checked~div.sk-toggleable__content {max-height: 200px;max-width: 100%;overflow: auto;}#sk-container-id-1 input.sk-toggleable__control:checked~label.sk-toggleable__label-arrow:before {content: \"▾\";}#sk-container-id-1 div.sk-estimator input.sk-toggleable__control:checked~label.sk-toggleable__label {background-color: #d4ebff;}#sk-container-id-1 div.sk-label input.sk-toggleable__control:checked~label.sk-toggleable__label {background-color: #d4ebff;}#sk-container-id-1 input.sk-hidden--visually {border: 0;clip: rect(1px 1px 1px 1px);clip: rect(1px, 1px, 1px, 1px);height: 1px;margin: -1px;overflow: hidden;padding: 0;position: absolute;width: 1px;}#sk-container-id-1 div.sk-estimator {font-family: monospace;background-color: #f0f8ff;border: 1px dotted black;border-radius: 0.25em;box-sizing: border-box;margin-bottom: 0.5em;}#sk-container-id-1 div.sk-estimator:hover {background-color: #d4ebff;}#sk-container-id-1 div.sk-parallel-item::after {content: \"\";width: 100%;border-bottom: 1px solid gray;flex-grow: 1;}#sk-container-id-1 div.sk-label:hover label.sk-toggleable__label {background-color: #d4ebff;}#sk-container-id-1 div.sk-serial::before {content: \"\";position: absolute;border-left: 1px solid gray;box-sizing: border-box;top: 0;bottom: 0;left: 50%;z-index: 0;}#sk-container-id-1 div.sk-serial {display: flex;flex-direction: column;align-items: center;background-color: white;padding-right: 0.2em;padding-left: 0.2em;position: relative;}#sk-container-id-1 div.sk-item {position: relative;z-index: 1;}#sk-container-id-1 div.sk-parallel {display: flex;align-items: stretch;justify-content: center;background-color: white;position: relative;}#sk-container-id-1 div.sk-item::before, #sk-container-id-1 div.sk-parallel-item::before {content: \"\";position: absolute;border-left: 1px solid gray;box-sizing: border-box;top: 0;bottom: 0;left: 50%;z-index: -1;}#sk-container-id-1 div.sk-parallel-item {display: flex;flex-direction: column;z-index: 1;position: relative;background-color: white;}#sk-container-id-1 div.sk-parallel-item:first-child::after {align-self: flex-end;width: 50%;}#sk-container-id-1 div.sk-parallel-item:last-child::after {align-self: flex-start;width: 50%;}#sk-container-id-1 div.sk-parallel-item:only-child::after {width: 0;}#sk-container-id-1 div.sk-dashed-wrapped {border: 1px dashed gray;margin: 0 0.4em 0.5em 0.4em;box-sizing: border-box;padding-bottom: 0.4em;background-color: white;}#sk-container-id-1 div.sk-label label {font-family: monospace;font-weight: bold;display: inline-block;line-height: 1.2em;}#sk-container-id-1 div.sk-label-container {text-align: center;}#sk-container-id-1 div.sk-container {/* jupyter's `normalize.less` sets `[hidden] { display: none; }` but bootstrap.min.css set `[hidden] { display: none !important; }` so we also need the `!important` here to be able to override the default hidden behavior on the sphinx rendered scikit-learn.org. See: https://github.com/scikit-learn/scikit-learn/issues/21755 */display: inline-block !important;position: relative;}#sk-container-id-1 div.sk-text-repr-fallback {display: none;}</style><div id=\"sk-container-id-1\" class=\"sk-top-container\"><div class=\"sk-text-repr-fallback\"><pre>PassiveAggressiveClassifier(C=0.16, loss=&#x27;squared_hinge&#x27;, max_iter=50,\n",
              "                            random_state=42)</pre><b>In a Jupyter environment, please rerun this cell to show the HTML representation or trust the notebook. <br />On GitHub, the HTML representation is unable to render, please try loading this page with nbviewer.org.</b></div><div class=\"sk-container\" hidden><div class=\"sk-item\"><div class=\"sk-estimator sk-toggleable\"><input class=\"sk-toggleable__control sk-hidden--visually\" id=\"sk-estimator-id-1\" type=\"checkbox\" checked><label for=\"sk-estimator-id-1\" class=\"sk-toggleable__label sk-toggleable__label-arrow\">PassiveAggressiveClassifier</label><div class=\"sk-toggleable__content\"><pre>PassiveAggressiveClassifier(C=0.16, loss=&#x27;squared_hinge&#x27;, max_iter=50,\n",
              "                            random_state=42)</pre></div></div></div></div></div>"
            ]
          },
          "metadata": {},
          "execution_count": 105
        }
      ]
    },
    {
      "cell_type": "code",
      "source": [
        "y_pred = pac.predict(tfidf_test)\n",
        "score = accuracy_score(y_test, y_pred)\n",
        "\n",
        "print(f'Accuracy: {round(score*100, 2)}%')"
      ],
      "metadata": {
        "id": "DTdIRfSq_oez",
        "outputId": "25995d2a-99bd-4d85-fc68-fb7be88174c0",
        "colab": {
          "base_uri": "https://localhost:8080/"
        }
      },
      "execution_count": null,
      "outputs": [
        {
          "output_type": "stream",
          "name": "stdout",
          "text": [
            "Accuracy: 90.87%\n"
          ]
        }
      ]
    },
    {
      "cell_type": "code",
      "source": [
        "ax = sns.heatmap(confusion_matrix(y_test,y_pred), annot=True, fmt=\"d\")\n",
        "sns.set_theme(style='white')\n",
        "ax.set(xlabel='Prediction', ylabel='Actual')\n",
        "plt.show()"
      ],
      "metadata": {
        "id": "0WzDhfJn_tfw",
        "outputId": "284acb63-9ef5-46a1-ce41-9e1945fe4a47",
        "colab": {
          "base_uri": "https://localhost:8080/",
          "height": 449
        }
      },
      "execution_count": null,
      "outputs": [
        {
          "output_type": "display_data",
          "data": {
            "text/plain": [
              "<Figure size 640x480 with 2 Axes>"
            ],
            "image/png": "[encoded data removed]"
          },
          "metadata": {}
        }
      ]
    }
  ]
}